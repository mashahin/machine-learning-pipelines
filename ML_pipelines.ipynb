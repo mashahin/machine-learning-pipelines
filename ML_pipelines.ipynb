{
 "cells": [
  {
   "cell_type": "markdown",
   "id": "c771d31f",
   "metadata": {},
   "source": [
    "## Machine Learning Pipelines\n",
    "Building machine learning models is not only about choosing the right algorithm and tuning its hyperparameters. Significant amount of time is spent wrangling data and feature engineering before model experimentation begins. These preprocessing steps can easily overwhelm your worklflow and become hard to track. Focusing from ML model to ML pipeline and seeing the preprocessing steps as an integral part of building a model can help keep your workflow more organised. In this post, we will first look at wrong way to preprocess data for a model, then will learn a correct approach followed by two ways to build a machine learning (ML) pipeline.\n",
    "\n",
    "ML Pipeline has many definitions depending on the context. In this post, ML Pipeline is defined as a collection of preprocessing steps and a model. This means when raw data is passed to the ML Pipeline, it preprocesses the data to the right format, scores the data using the model and pops out a prediction score."
   ]
  },
  {
   "cell_type": "markdown",
   "id": "8393b52e",
   "metadata": {},
   "source": [
    "### Setup\n",
    "Let’s import libraries and a sample data: a subset of the titanic dataset (the data is available through Seaborn under the BSD-3 licence)."
   ]
  },
  {
   "cell_type": "code",
   "execution_count": 1,
   "id": "eb8a4c45",
   "metadata": {},
   "outputs": [
    {
     "name": "stdout",
     "output_type": "stream",
     "text": [
      "(891, 9)\n"
     ]
    },
    {
     "data": {
      "text/html": [
       "<div>\n",
       "<style scoped>\n",
       "    .dataframe tbody tr th:only-of-type {\n",
       "        vertical-align: middle;\n",
       "    }\n",
       "\n",
       "    .dataframe tbody tr th {\n",
       "        vertical-align: top;\n",
       "    }\n",
       "\n",
       "    .dataframe thead th {\n",
       "        text-align: right;\n",
       "    }\n",
       "</style>\n",
       "<table border=\"1\" class=\"dataframe\">\n",
       "  <thead>\n",
       "    <tr style=\"text-align: right;\">\n",
       "      <th></th>\n",
       "      <th>survived</th>\n",
       "      <th>pclass</th>\n",
       "      <th>sex</th>\n",
       "      <th>age</th>\n",
       "      <th>sibsp</th>\n",
       "      <th>parch</th>\n",
       "      <th>fare</th>\n",
       "      <th>deck</th>\n",
       "      <th>embark_town</th>\n",
       "    </tr>\n",
       "  </thead>\n",
       "  <tbody>\n",
       "    <tr>\n",
       "      <th>0</th>\n",
       "      <td>0</td>\n",
       "      <td>3</td>\n",
       "      <td>male</td>\n",
       "      <td>22.0</td>\n",
       "      <td>1</td>\n",
       "      <td>0</td>\n",
       "      <td>7.2500</td>\n",
       "      <td>NaN</td>\n",
       "      <td>Southampton</td>\n",
       "    </tr>\n",
       "    <tr>\n",
       "      <th>1</th>\n",
       "      <td>1</td>\n",
       "      <td>1</td>\n",
       "      <td>female</td>\n",
       "      <td>38.0</td>\n",
       "      <td>1</td>\n",
       "      <td>0</td>\n",
       "      <td>71.2833</td>\n",
       "      <td>C</td>\n",
       "      <td>Cherbourg</td>\n",
       "    </tr>\n",
       "    <tr>\n",
       "      <th>2</th>\n",
       "      <td>1</td>\n",
       "      <td>3</td>\n",
       "      <td>female</td>\n",
       "      <td>26.0</td>\n",
       "      <td>0</td>\n",
       "      <td>0</td>\n",
       "      <td>7.9250</td>\n",
       "      <td>NaN</td>\n",
       "      <td>Southampton</td>\n",
       "    </tr>\n",
       "    <tr>\n",
       "      <th>3</th>\n",
       "      <td>1</td>\n",
       "      <td>1</td>\n",
       "      <td>female</td>\n",
       "      <td>35.0</td>\n",
       "      <td>1</td>\n",
       "      <td>0</td>\n",
       "      <td>53.1000</td>\n",
       "      <td>C</td>\n",
       "      <td>Southampton</td>\n",
       "    </tr>\n",
       "    <tr>\n",
       "      <th>4</th>\n",
       "      <td>0</td>\n",
       "      <td>3</td>\n",
       "      <td>male</td>\n",
       "      <td>35.0</td>\n",
       "      <td>0</td>\n",
       "      <td>0</td>\n",
       "      <td>8.0500</td>\n",
       "      <td>NaN</td>\n",
       "      <td>Southampton</td>\n",
       "    </tr>\n",
       "  </tbody>\n",
       "</table>\n",
       "</div>"
      ],
      "text/plain": [
       "   survived  pclass     sex   age  sibsp  parch     fare deck  embark_town\n",
       "0         0       3    male  22.0      1      0   7.2500  NaN  Southampton\n",
       "1         1       1  female  38.0      1      0  71.2833    C    Cherbourg\n",
       "2         1       3  female  26.0      0      0   7.9250  NaN  Southampton\n",
       "3         1       1  female  35.0      1      0  53.1000    C  Southampton\n",
       "4         0       3    male  35.0      0      0   8.0500  NaN  Southampton"
      ]
     },
     "execution_count": 1,
     "metadata": {},
     "output_type": "execute_result"
    }
   ],
   "source": [
    "# Data manipulation\n",
    "from seaborn import load_dataset\n",
    "import numpy as np\n",
    "import pandas as pd\n",
    "pd.options.display.precision = 4\n",
    "pd.options.mode.chained_assignment = None  \n",
    "\n",
    "# Machine learning pipeline\n",
    "from sklearn.model_selection import train_test_split\n",
    "from sklearn.base import BaseEstimator, TransformerMixin\n",
    "from sklearn.impute import SimpleImputer\n",
    "from sklearn.preprocessing import OneHotEncoder, MinMaxScaler\n",
    "from sklearn.compose import ColumnTransformer\n",
    "from sklearn.pipeline import Pipeline\n",
    "from sklearn.linear_model import LogisticRegression\n",
    "from sklearn.metrics import roc_auc_score\n",
    "from sklearn import set_config\n",
    "set_config(display=\"diagram\")\n",
    "\n",
    "# Load data\n",
    "columns = ['alive', 'class', 'embarked', 'who', 'alone', 'adult_male']\n",
    "df = load_dataset('titanic').drop(columns=columns)\n",
    "df['deck'] = df['deck'].astype('object')\n",
    "print(df.shape)\n",
    "df.head()"
   ]
  },
  {
   "cell_type": "markdown",
   "id": "fffb7965",
   "metadata": {},
   "source": [
    "We will now define commonly used variables to easily reference later on:"
   ]
  },
  {
   "cell_type": "code",
   "execution_count": 2,
   "id": "0648525c",
   "metadata": {},
   "outputs": [
    {
     "name": "stdout",
     "output_type": "stream",
     "text": [
      "Numerical features: pclass, age, sibsp, parch, fare\n",
      "Categorical features: deck, embark_town, sex\n"
     ]
    }
   ],
   "source": [
    "SEED = 42\n",
    "TARGET = 'survived'\n",
    "FEATURES = df.columns.drop(TARGET)\n",
    "\n",
    "NUMERICAL = df[FEATURES].select_dtypes('number').columns\n",
    "print(f\"Numerical features: {', '.join(NUMERICAL)}\")\n",
    "\n",
    "CATEGORICAL = pd.Index(np.setdiff1d(FEATURES, NUMERICAL))\n",
    "print(f\"Categorical features: {', '.join(CATEGORICAL)}\")"
   ]
  },
  {
   "cell_type": "markdown",
   "id": "bf098aad",
   "metadata": {},
   "source": [
    "### Wrong Approach\n",
    "It’s not uncommon to use pandas methods like this when preprocessing:"
   ]
  },
  {
   "cell_type": "code",
   "execution_count": 3,
   "id": "97e778ca",
   "metadata": {},
   "outputs": [
    {
     "data": {
      "text/html": [
       "<div>\n",
       "<style scoped>\n",
       "    .dataframe tbody tr th:only-of-type {\n",
       "        vertical-align: middle;\n",
       "    }\n",
       "\n",
       "    .dataframe tbody tr th {\n",
       "        vertical-align: top;\n",
       "    }\n",
       "\n",
       "    .dataframe thead th {\n",
       "        text-align: right;\n",
       "    }\n",
       "</style>\n",
       "<table border=\"1\" class=\"dataframe\">\n",
       "  <thead>\n",
       "    <tr style=\"text-align: right;\">\n",
       "      <th></th>\n",
       "      <th>pclass</th>\n",
       "      <th>age</th>\n",
       "      <th>sibsp</th>\n",
       "      <th>parch</th>\n",
       "      <th>fare</th>\n",
       "      <th>deck_B</th>\n",
       "      <th>deck_C</th>\n",
       "      <th>deck_D</th>\n",
       "      <th>deck_E</th>\n",
       "      <th>deck_F</th>\n",
       "      <th>deck_G</th>\n",
       "      <th>deck_missing</th>\n",
       "      <th>embark_town_Queenstown</th>\n",
       "      <th>embark_town_Southampton</th>\n",
       "      <th>embark_town_missing</th>\n",
       "      <th>sex_male</th>\n",
       "    </tr>\n",
       "  </thead>\n",
       "  <tbody>\n",
       "    <tr>\n",
       "      <th>0</th>\n",
       "      <td>1.0</td>\n",
       "      <td>0.2712</td>\n",
       "      <td>0.125</td>\n",
       "      <td>0.0</td>\n",
       "      <td>0.0142</td>\n",
       "      <td>0</td>\n",
       "      <td>0</td>\n",
       "      <td>0</td>\n",
       "      <td>0</td>\n",
       "      <td>0</td>\n",
       "      <td>0</td>\n",
       "      <td>1</td>\n",
       "      <td>0</td>\n",
       "      <td>1</td>\n",
       "      <td>0</td>\n",
       "      <td>1</td>\n",
       "    </tr>\n",
       "    <tr>\n",
       "      <th>1</th>\n",
       "      <td>0.0</td>\n",
       "      <td>0.4722</td>\n",
       "      <td>0.125</td>\n",
       "      <td>0.0</td>\n",
       "      <td>0.1391</td>\n",
       "      <td>0</td>\n",
       "      <td>1</td>\n",
       "      <td>0</td>\n",
       "      <td>0</td>\n",
       "      <td>0</td>\n",
       "      <td>0</td>\n",
       "      <td>0</td>\n",
       "      <td>0</td>\n",
       "      <td>0</td>\n",
       "      <td>0</td>\n",
       "      <td>0</td>\n",
       "    </tr>\n",
       "    <tr>\n",
       "      <th>2</th>\n",
       "      <td>1.0</td>\n",
       "      <td>0.3214</td>\n",
       "      <td>0.000</td>\n",
       "      <td>0.0</td>\n",
       "      <td>0.0155</td>\n",
       "      <td>0</td>\n",
       "      <td>0</td>\n",
       "      <td>0</td>\n",
       "      <td>0</td>\n",
       "      <td>0</td>\n",
       "      <td>0</td>\n",
       "      <td>1</td>\n",
       "      <td>0</td>\n",
       "      <td>1</td>\n",
       "      <td>0</td>\n",
       "      <td>0</td>\n",
       "    </tr>\n",
       "    <tr>\n",
       "      <th>3</th>\n",
       "      <td>0.0</td>\n",
       "      <td>0.4345</td>\n",
       "      <td>0.125</td>\n",
       "      <td>0.0</td>\n",
       "      <td>0.1036</td>\n",
       "      <td>0</td>\n",
       "      <td>1</td>\n",
       "      <td>0</td>\n",
       "      <td>0</td>\n",
       "      <td>0</td>\n",
       "      <td>0</td>\n",
       "      <td>0</td>\n",
       "      <td>0</td>\n",
       "      <td>1</td>\n",
       "      <td>0</td>\n",
       "      <td>0</td>\n",
       "    </tr>\n",
       "    <tr>\n",
       "      <th>4</th>\n",
       "      <td>1.0</td>\n",
       "      <td>0.4345</td>\n",
       "      <td>0.000</td>\n",
       "      <td>0.0</td>\n",
       "      <td>0.0157</td>\n",
       "      <td>0</td>\n",
       "      <td>0</td>\n",
       "      <td>0</td>\n",
       "      <td>0</td>\n",
       "      <td>0</td>\n",
       "      <td>0</td>\n",
       "      <td>1</td>\n",
       "      <td>0</td>\n",
       "      <td>1</td>\n",
       "      <td>0</td>\n",
       "      <td>1</td>\n",
       "    </tr>\n",
       "  </tbody>\n",
       "</table>\n",
       "</div>"
      ],
      "text/plain": [
       "   pclass     age  sibsp  parch    fare  deck_B  deck_C  deck_D  deck_E  \\\n",
       "0     1.0  0.2712  0.125    0.0  0.0142       0       0       0       0   \n",
       "1     0.0  0.4722  0.125    0.0  0.1391       0       1       0       0   \n",
       "2     1.0  0.3214  0.000    0.0  0.0155       0       0       0       0   \n",
       "3     0.0  0.4345  0.125    0.0  0.1036       0       1       0       0   \n",
       "4     1.0  0.4345  0.000    0.0  0.0157       0       0       0       0   \n",
       "\n",
       "   deck_F  deck_G  deck_missing  embark_town_Queenstown  \\\n",
       "0       0       0             1                       0   \n",
       "1       0       0             0                       0   \n",
       "2       0       0             1                       0   \n",
       "3       0       0             0                       0   \n",
       "4       0       0             1                       0   \n",
       "\n",
       "   embark_town_Southampton  embark_town_missing  sex_male  \n",
       "0                        1                    0         1  \n",
       "1                        0                    0         0  \n",
       "2                        1                    0         0  \n",
       "3                        1                    0         0  \n",
       "4                        1                    0         1  "
      ]
     },
     "execution_count": 3,
     "metadata": {},
     "output_type": "execute_result"
    }
   ],
   "source": [
    "# Impute numerical variables with mean\n",
    "df_num_imputed = df[NUMERICAL].fillna(df[NUMERICAL].mean())\n",
    "# Normalise numerical variables\n",
    "df_num_scaled = df_num_imputed.subtract(df_num_imputed.min(), axis=1)\\\n",
    "                              .divide(df_num_imputed.max()-df_num_imputed.min(), axis=1)\n",
    "\n",
    "# Impute categorical variables with a constant\n",
    "df_cat_imputed = df[CATEGORICAL].fillna('missing')\n",
    "# One-hot-encode categorical variables\n",
    "df_cat_encoded = pd.get_dummies(df_cat_imputed, drop_first=True)\n",
    "\n",
    "# Merge data\n",
    "df_preprocessed = df_num_scaled.join(df_cat_encoded)\n",
    "df_preprocessed.head()"
   ]
  },
  {
   "cell_type": "markdown",
   "id": "318f6b97",
   "metadata": {},
   "source": [
    "We imputed missing values, scaled numerical variables between 0 to 1 and one-hot-encoded categorical variables. After preprocessing, the data is partitioned and a model is fitted:"
   ]
  },
  {
   "cell_type": "code",
   "execution_count": 4,
   "id": "eeed1655",
   "metadata": {},
   "outputs": [
    {
     "data": {
      "text/html": [
       "<style>#sk-f3133b83-e54d-40f5-aa60-c1d6faee88a6 {color: black;background-color: white;}#sk-f3133b83-e54d-40f5-aa60-c1d6faee88a6 pre{padding: 0;}#sk-f3133b83-e54d-40f5-aa60-c1d6faee88a6 div.sk-toggleable {background-color: white;}#sk-f3133b83-e54d-40f5-aa60-c1d6faee88a6 label.sk-toggleable__label {cursor: pointer;display: block;width: 100%;margin-bottom: 0;padding: 0.3em;box-sizing: border-box;text-align: center;}#sk-f3133b83-e54d-40f5-aa60-c1d6faee88a6 label.sk-toggleable__label-arrow:before {content: \"▸\";float: left;margin-right: 0.25em;color: #696969;}#sk-f3133b83-e54d-40f5-aa60-c1d6faee88a6 label.sk-toggleable__label-arrow:hover:before {color: black;}#sk-f3133b83-e54d-40f5-aa60-c1d6faee88a6 div.sk-estimator:hover label.sk-toggleable__label-arrow:before {color: black;}#sk-f3133b83-e54d-40f5-aa60-c1d6faee88a6 div.sk-toggleable__content {max-height: 0;max-width: 0;overflow: hidden;text-align: left;background-color: #f0f8ff;}#sk-f3133b83-e54d-40f5-aa60-c1d6faee88a6 div.sk-toggleable__content pre {margin: 0.2em;color: black;border-radius: 0.25em;background-color: #f0f8ff;}#sk-f3133b83-e54d-40f5-aa60-c1d6faee88a6 input.sk-toggleable__control:checked~div.sk-toggleable__content {max-height: 200px;max-width: 100%;overflow: auto;}#sk-f3133b83-e54d-40f5-aa60-c1d6faee88a6 input.sk-toggleable__control:checked~label.sk-toggleable__label-arrow:before {content: \"▾\";}#sk-f3133b83-e54d-40f5-aa60-c1d6faee88a6 div.sk-estimator input.sk-toggleable__control:checked~label.sk-toggleable__label {background-color: #d4ebff;}#sk-f3133b83-e54d-40f5-aa60-c1d6faee88a6 div.sk-label input.sk-toggleable__control:checked~label.sk-toggleable__label {background-color: #d4ebff;}#sk-f3133b83-e54d-40f5-aa60-c1d6faee88a6 input.sk-hidden--visually {border: 0;clip: rect(1px 1px 1px 1px);clip: rect(1px, 1px, 1px, 1px);height: 1px;margin: -1px;overflow: hidden;padding: 0;position: absolute;width: 1px;}#sk-f3133b83-e54d-40f5-aa60-c1d6faee88a6 div.sk-estimator {font-family: monospace;background-color: #f0f8ff;border: 1px dotted black;border-radius: 0.25em;box-sizing: border-box;margin-bottom: 0.5em;}#sk-f3133b83-e54d-40f5-aa60-c1d6faee88a6 div.sk-estimator:hover {background-color: #d4ebff;}#sk-f3133b83-e54d-40f5-aa60-c1d6faee88a6 div.sk-parallel-item::after {content: \"\";width: 100%;border-bottom: 1px solid gray;flex-grow: 1;}#sk-f3133b83-e54d-40f5-aa60-c1d6faee88a6 div.sk-label:hover label.sk-toggleable__label {background-color: #d4ebff;}#sk-f3133b83-e54d-40f5-aa60-c1d6faee88a6 div.sk-serial::before {content: \"\";position: absolute;border-left: 1px solid gray;box-sizing: border-box;top: 2em;bottom: 0;left: 50%;}#sk-f3133b83-e54d-40f5-aa60-c1d6faee88a6 div.sk-serial {display: flex;flex-direction: column;align-items: center;background-color: white;padding-right: 0.2em;padding-left: 0.2em;}#sk-f3133b83-e54d-40f5-aa60-c1d6faee88a6 div.sk-item {z-index: 1;}#sk-f3133b83-e54d-40f5-aa60-c1d6faee88a6 div.sk-parallel {display: flex;align-items: stretch;justify-content: center;background-color: white;}#sk-f3133b83-e54d-40f5-aa60-c1d6faee88a6 div.sk-parallel::before {content: \"\";position: absolute;border-left: 1px solid gray;box-sizing: border-box;top: 2em;bottom: 0;left: 50%;}#sk-f3133b83-e54d-40f5-aa60-c1d6faee88a6 div.sk-parallel-item {display: flex;flex-direction: column;position: relative;background-color: white;}#sk-f3133b83-e54d-40f5-aa60-c1d6faee88a6 div.sk-parallel-item:first-child::after {align-self: flex-end;width: 50%;}#sk-f3133b83-e54d-40f5-aa60-c1d6faee88a6 div.sk-parallel-item:last-child::after {align-self: flex-start;width: 50%;}#sk-f3133b83-e54d-40f5-aa60-c1d6faee88a6 div.sk-parallel-item:only-child::after {width: 0;}#sk-f3133b83-e54d-40f5-aa60-c1d6faee88a6 div.sk-dashed-wrapped {border: 1px dashed gray;margin: 0 0.4em 0.5em 0.4em;box-sizing: border-box;padding-bottom: 0.4em;background-color: white;position: relative;}#sk-f3133b83-e54d-40f5-aa60-c1d6faee88a6 div.sk-label label {font-family: monospace;font-weight: bold;background-color: white;display: inline-block;line-height: 1.2em;}#sk-f3133b83-e54d-40f5-aa60-c1d6faee88a6 div.sk-label-container {position: relative;z-index: 2;text-align: center;}#sk-f3133b83-e54d-40f5-aa60-c1d6faee88a6 div.sk-container {/* jupyter's `normalize.less` sets `[hidden] { display: none; }` but bootstrap.min.css set `[hidden] { display: none !important; }` so we also need the `!important` here to be able to override the default hidden behavior on the sphinx rendered scikit-learn.org. See: https://github.com/scikit-learn/scikit-learn/issues/21755 */display: inline-block !important;position: relative;}#sk-f3133b83-e54d-40f5-aa60-c1d6faee88a6 div.sk-text-repr-fallback {display: none;}</style><div id=\"sk-f3133b83-e54d-40f5-aa60-c1d6faee88a6\" class=\"sk-top-container\"><div class=\"sk-text-repr-fallback\"><pre>LogisticRegression()</pre><b>Please rerun this cell to show the HTML repr or trust the notebook.</b></div><div class=\"sk-container\" hidden><div class=\"sk-item\"><div class=\"sk-estimator sk-toggleable\"><input class=\"sk-toggleable__control sk-hidden--visually\" id=\"7fe05dd2-7457-491f-b645-418754b67229\" type=\"checkbox\" checked><label for=\"7fe05dd2-7457-491f-b645-418754b67229\" class=\"sk-toggleable__label sk-toggleable__label-arrow\">LogisticRegression</label><div class=\"sk-toggleable__content\"><pre>LogisticRegression()</pre></div></div></div></div></div>"
      ],
      "text/plain": [
       "LogisticRegression()"
      ]
     },
     "execution_count": 4,
     "metadata": {},
     "output_type": "execute_result"
    }
   ],
   "source": [
    "# Partition data\n",
    "X_train, X_test, y_train, y_test = train_test_split(df_preprocessed, df[TARGET], \n",
    "                                                    test_size=.2, random_state=SEED, \n",
    "                                                    stratify=df[TARGET])\n",
    "\n",
    "# Train a model\n",
    "model = LogisticRegression()\n",
    "model.fit(X_train, y_train)"
   ]
  },
  {
   "cell_type": "markdown",
   "id": "6fd84e27",
   "metadata": {},
   "source": [
    "Okay, let’s analyse what was wrong with this approach:\n",
    "\n",
    "◼️ Imputation: Numerical variables should be imputed with a mean from the training data instead of the entire data.\n",
    "\n",
    "◼️ Scaling: Min and max should be calculated from the training data.\n",
    "\n",
    "◼️ Encoding: Categories should be inferred from the training data. In addition, even if the data is partitioned prior to preprocessing, one-hot-encoding with pd.get_dummies(X_train) and pd.get_dummies(X_test) can result in inconsistent training and test data (i.e. the columns may vary depending on the categories in both datasets). Therefore, pd.get_dummies() should not be used for one-hot-encoding when preparing data for a model.\n",
    "\n",
    "💡 Test data should be set aside prior to preprocessing. Any statistics such as mean, min and max used for preprocessing should be derived from the training data. Otherwise, there will be a data leakage problem.\n",
    "\n",
    "Now, let’s asses the model. We will use ROC-AUC to evaluate the model. We will create a function that calculates ROC-AUC since it will be useful for evaluating the subsequent approaches:"
   ]
  },
  {
   "cell_type": "code",
   "execution_count": 5,
   "id": "1af31d28",
   "metadata": {},
   "outputs": [
    {
     "name": "stdout",
     "output_type": "stream",
     "text": [
      "Train ROC-AUC: 0.8669\n",
      "Test ROC-AUC: 0.8329\n"
     ]
    }
   ],
   "source": [
    "def calculate_roc_auc(model_pipe, X, y):\n",
    "    \"\"\"Calculate roc auc score. \n",
    "    \n",
    "    Parameters:\n",
    "    ===========\n",
    "    model_pipe: sklearn model or pipeline\n",
    "    X: features\n",
    "    y: true target\n",
    "    \"\"\"\n",
    "    y_proba = model_pipe.predict_proba(X)[:,1]\n",
    "    return roc_auc_score(y, y_proba)\n",
    "  \n",
    "print(f\"Train ROC-AUC: {calculate_roc_auc(model, X_train, y_train):.4f}\")\n",
    "print(f\"Test ROC-AUC: {calculate_roc_auc(model, X_test, y_test):.4f}\")"
   ]
  },
  {
   "cell_type": "markdown",
   "id": "22dba1ae",
   "metadata": {},
   "source": [
    "### Correct approach but …\n",
    "We will partition the data first and prepreprocess data using Scikit-learn’s transformers to prevent data leakage by preprocessing correctly:"
   ]
  },
  {
   "cell_type": "code",
   "execution_count": 6,
   "id": "3f4ad3d6",
   "metadata": {},
   "outputs": [
    {
     "data": {
      "text/html": [
       "<div>\n",
       "<style scoped>\n",
       "    .dataframe tbody tr th:only-of-type {\n",
       "        vertical-align: middle;\n",
       "    }\n",
       "\n",
       "    .dataframe tbody tr th {\n",
       "        vertical-align: top;\n",
       "    }\n",
       "\n",
       "    .dataframe thead th {\n",
       "        text-align: right;\n",
       "    }\n",
       "</style>\n",
       "<table border=\"1\" class=\"dataframe\">\n",
       "  <thead>\n",
       "    <tr style=\"text-align: right;\">\n",
       "      <th></th>\n",
       "      <th>pclass</th>\n",
       "      <th>age</th>\n",
       "      <th>sibsp</th>\n",
       "      <th>parch</th>\n",
       "      <th>fare</th>\n",
       "      <th>deck_B</th>\n",
       "      <th>deck_C</th>\n",
       "      <th>deck_D</th>\n",
       "      <th>deck_E</th>\n",
       "      <th>deck_F</th>\n",
       "      <th>deck_G</th>\n",
       "      <th>deck_missing</th>\n",
       "      <th>embark_town_Queenstown</th>\n",
       "      <th>embark_town_Southampton</th>\n",
       "      <th>embark_town_missing</th>\n",
       "      <th>sex_male</th>\n",
       "    </tr>\n",
       "  </thead>\n",
       "  <tbody>\n",
       "    <tr>\n",
       "      <th>692</th>\n",
       "      <td>1.0</td>\n",
       "      <td>0.3693</td>\n",
       "      <td>0.000</td>\n",
       "      <td>0.0000</td>\n",
       "      <td>0.1103</td>\n",
       "      <td>0.0</td>\n",
       "      <td>0.0</td>\n",
       "      <td>0.0</td>\n",
       "      <td>0.0</td>\n",
       "      <td>0.0</td>\n",
       "      <td>0.0</td>\n",
       "      <td>1.0</td>\n",
       "      <td>0.0</td>\n",
       "      <td>1.0</td>\n",
       "      <td>0.0</td>\n",
       "      <td>1.0</td>\n",
       "    </tr>\n",
       "    <tr>\n",
       "      <th>481</th>\n",
       "      <td>0.5</td>\n",
       "      <td>0.3693</td>\n",
       "      <td>0.000</td>\n",
       "      <td>0.0000</td>\n",
       "      <td>0.0000</td>\n",
       "      <td>0.0</td>\n",
       "      <td>0.0</td>\n",
       "      <td>0.0</td>\n",
       "      <td>0.0</td>\n",
       "      <td>0.0</td>\n",
       "      <td>0.0</td>\n",
       "      <td>1.0</td>\n",
       "      <td>0.0</td>\n",
       "      <td>1.0</td>\n",
       "      <td>0.0</td>\n",
       "      <td>1.0</td>\n",
       "    </tr>\n",
       "    <tr>\n",
       "      <th>527</th>\n",
       "      <td>0.0</td>\n",
       "      <td>0.3693</td>\n",
       "      <td>0.000</td>\n",
       "      <td>0.0000</td>\n",
       "      <td>0.4329</td>\n",
       "      <td>0.0</td>\n",
       "      <td>1.0</td>\n",
       "      <td>0.0</td>\n",
       "      <td>0.0</td>\n",
       "      <td>0.0</td>\n",
       "      <td>0.0</td>\n",
       "      <td>0.0</td>\n",
       "      <td>0.0</td>\n",
       "      <td>1.0</td>\n",
       "      <td>0.0</td>\n",
       "      <td>1.0</td>\n",
       "    </tr>\n",
       "    <tr>\n",
       "      <th>855</th>\n",
       "      <td>1.0</td>\n",
       "      <td>0.2209</td>\n",
       "      <td>0.000</td>\n",
       "      <td>0.1667</td>\n",
       "      <td>0.0182</td>\n",
       "      <td>0.0</td>\n",
       "      <td>0.0</td>\n",
       "      <td>0.0</td>\n",
       "      <td>0.0</td>\n",
       "      <td>0.0</td>\n",
       "      <td>0.0</td>\n",
       "      <td>1.0</td>\n",
       "      <td>0.0</td>\n",
       "      <td>1.0</td>\n",
       "      <td>0.0</td>\n",
       "      <td>0.0</td>\n",
       "    </tr>\n",
       "    <tr>\n",
       "      <th>801</th>\n",
       "      <td>0.5</td>\n",
       "      <td>0.3843</td>\n",
       "      <td>0.125</td>\n",
       "      <td>0.1667</td>\n",
       "      <td>0.0512</td>\n",
       "      <td>0.0</td>\n",
       "      <td>0.0</td>\n",
       "      <td>0.0</td>\n",
       "      <td>0.0</td>\n",
       "      <td>0.0</td>\n",
       "      <td>0.0</td>\n",
       "      <td>1.0</td>\n",
       "      <td>0.0</td>\n",
       "      <td>1.0</td>\n",
       "      <td>0.0</td>\n",
       "      <td>0.0</td>\n",
       "    </tr>\n",
       "  </tbody>\n",
       "</table>\n",
       "</div>"
      ],
      "text/plain": [
       "     pclass     age  sibsp   parch    fare  deck_B  deck_C  deck_D  deck_E  \\\n",
       "692     1.0  0.3693  0.000  0.0000  0.1103     0.0     0.0     0.0     0.0   \n",
       "481     0.5  0.3693  0.000  0.0000  0.0000     0.0     0.0     0.0     0.0   \n",
       "527     0.0  0.3693  0.000  0.0000  0.4329     0.0     1.0     0.0     0.0   \n",
       "855     1.0  0.2209  0.000  0.1667  0.0182     0.0     0.0     0.0     0.0   \n",
       "801     0.5  0.3843  0.125  0.1667  0.0512     0.0     0.0     0.0     0.0   \n",
       "\n",
       "     deck_F  deck_G  deck_missing  embark_town_Queenstown  \\\n",
       "692     0.0     0.0           1.0                     0.0   \n",
       "481     0.0     0.0           1.0                     0.0   \n",
       "527     0.0     0.0           0.0                     0.0   \n",
       "855     0.0     0.0           1.0                     0.0   \n",
       "801     0.0     0.0           1.0                     0.0   \n",
       "\n",
       "     embark_town_Southampton  embark_town_missing  sex_male  \n",
       "692                      1.0                  0.0       1.0  \n",
       "481                      1.0                  0.0       1.0  \n",
       "527                      1.0                  0.0       1.0  \n",
       "855                      1.0                  0.0       0.0  \n",
       "801                      1.0                  0.0       0.0  "
      ]
     },
     "execution_count": 6,
     "metadata": {},
     "output_type": "execute_result"
    }
   ],
   "source": [
    "X_train, X_test, y_train, y_test = train_test_split(df.drop(columns=TARGET), df[TARGET], \n",
    "                                                    test_size=.2, random_state=SEED, \n",
    "                                                    stratify=df[TARGET])\n",
    "num_imputer = SimpleImputer(strategy='mean')\n",
    "train_num_imputed = num_imputer.fit_transform(X_train[NUMERICAL])\n",
    "\n",
    "scaler = MinMaxScaler()\n",
    "train_num_scaled = scaler.fit_transform(train_num_imputed)\n",
    "\n",
    "cat_imputer = SimpleImputer(strategy='constant', fill_value='missing')\n",
    "train_cat_imputed = cat_imputer.fit_transform(X_train[CATEGORICAL])\n",
    "\n",
    "encoder = OneHotEncoder(drop='first', handle_unknown='ignore', sparse=False)\n",
    "train_cat_encoded = encoder.fit_transform(train_cat_imputed)\n",
    "\n",
    "train_preprocessed = np.concatenate((train_num_scaled, train_cat_encoded), axis=1)\n",
    "\n",
    "columns = np.append(NUMERICAL, encoder.get_feature_names_out(CATEGORICAL))\n",
    "pd.DataFrame(train_preprocessed, columns=columns, index=X_train.index).head()"
   ]
  },
  {
   "cell_type": "markdown",
   "id": "5adc2ef9",
   "metadata": {},
   "source": [
    "Lovely, we can fit the model now:"
   ]
  },
  {
   "cell_type": "code",
   "execution_count": 7,
   "id": "34690872",
   "metadata": {},
   "outputs": [
    {
     "data": {
      "text/html": [
       "<style>#sk-1ea5c94d-463c-42c1-9a9e-ef772c09f3cc {color: black;background-color: white;}#sk-1ea5c94d-463c-42c1-9a9e-ef772c09f3cc pre{padding: 0;}#sk-1ea5c94d-463c-42c1-9a9e-ef772c09f3cc div.sk-toggleable {background-color: white;}#sk-1ea5c94d-463c-42c1-9a9e-ef772c09f3cc label.sk-toggleable__label {cursor: pointer;display: block;width: 100%;margin-bottom: 0;padding: 0.3em;box-sizing: border-box;text-align: center;}#sk-1ea5c94d-463c-42c1-9a9e-ef772c09f3cc label.sk-toggleable__label-arrow:before {content: \"▸\";float: left;margin-right: 0.25em;color: #696969;}#sk-1ea5c94d-463c-42c1-9a9e-ef772c09f3cc label.sk-toggleable__label-arrow:hover:before {color: black;}#sk-1ea5c94d-463c-42c1-9a9e-ef772c09f3cc div.sk-estimator:hover label.sk-toggleable__label-arrow:before {color: black;}#sk-1ea5c94d-463c-42c1-9a9e-ef772c09f3cc div.sk-toggleable__content {max-height: 0;max-width: 0;overflow: hidden;text-align: left;background-color: #f0f8ff;}#sk-1ea5c94d-463c-42c1-9a9e-ef772c09f3cc div.sk-toggleable__content pre {margin: 0.2em;color: black;border-radius: 0.25em;background-color: #f0f8ff;}#sk-1ea5c94d-463c-42c1-9a9e-ef772c09f3cc input.sk-toggleable__control:checked~div.sk-toggleable__content {max-height: 200px;max-width: 100%;overflow: auto;}#sk-1ea5c94d-463c-42c1-9a9e-ef772c09f3cc input.sk-toggleable__control:checked~label.sk-toggleable__label-arrow:before {content: \"▾\";}#sk-1ea5c94d-463c-42c1-9a9e-ef772c09f3cc div.sk-estimator input.sk-toggleable__control:checked~label.sk-toggleable__label {background-color: #d4ebff;}#sk-1ea5c94d-463c-42c1-9a9e-ef772c09f3cc div.sk-label input.sk-toggleable__control:checked~label.sk-toggleable__label {background-color: #d4ebff;}#sk-1ea5c94d-463c-42c1-9a9e-ef772c09f3cc input.sk-hidden--visually {border: 0;clip: rect(1px 1px 1px 1px);clip: rect(1px, 1px, 1px, 1px);height: 1px;margin: -1px;overflow: hidden;padding: 0;position: absolute;width: 1px;}#sk-1ea5c94d-463c-42c1-9a9e-ef772c09f3cc div.sk-estimator {font-family: monospace;background-color: #f0f8ff;border: 1px dotted black;border-radius: 0.25em;box-sizing: border-box;margin-bottom: 0.5em;}#sk-1ea5c94d-463c-42c1-9a9e-ef772c09f3cc div.sk-estimator:hover {background-color: #d4ebff;}#sk-1ea5c94d-463c-42c1-9a9e-ef772c09f3cc div.sk-parallel-item::after {content: \"\";width: 100%;border-bottom: 1px solid gray;flex-grow: 1;}#sk-1ea5c94d-463c-42c1-9a9e-ef772c09f3cc div.sk-label:hover label.sk-toggleable__label {background-color: #d4ebff;}#sk-1ea5c94d-463c-42c1-9a9e-ef772c09f3cc div.sk-serial::before {content: \"\";position: absolute;border-left: 1px solid gray;box-sizing: border-box;top: 2em;bottom: 0;left: 50%;}#sk-1ea5c94d-463c-42c1-9a9e-ef772c09f3cc div.sk-serial {display: flex;flex-direction: column;align-items: center;background-color: white;padding-right: 0.2em;padding-left: 0.2em;}#sk-1ea5c94d-463c-42c1-9a9e-ef772c09f3cc div.sk-item {z-index: 1;}#sk-1ea5c94d-463c-42c1-9a9e-ef772c09f3cc div.sk-parallel {display: flex;align-items: stretch;justify-content: center;background-color: white;}#sk-1ea5c94d-463c-42c1-9a9e-ef772c09f3cc div.sk-parallel::before {content: \"\";position: absolute;border-left: 1px solid gray;box-sizing: border-box;top: 2em;bottom: 0;left: 50%;}#sk-1ea5c94d-463c-42c1-9a9e-ef772c09f3cc div.sk-parallel-item {display: flex;flex-direction: column;position: relative;background-color: white;}#sk-1ea5c94d-463c-42c1-9a9e-ef772c09f3cc div.sk-parallel-item:first-child::after {align-self: flex-end;width: 50%;}#sk-1ea5c94d-463c-42c1-9a9e-ef772c09f3cc div.sk-parallel-item:last-child::after {align-self: flex-start;width: 50%;}#sk-1ea5c94d-463c-42c1-9a9e-ef772c09f3cc div.sk-parallel-item:only-child::after {width: 0;}#sk-1ea5c94d-463c-42c1-9a9e-ef772c09f3cc div.sk-dashed-wrapped {border: 1px dashed gray;margin: 0 0.4em 0.5em 0.4em;box-sizing: border-box;padding-bottom: 0.4em;background-color: white;position: relative;}#sk-1ea5c94d-463c-42c1-9a9e-ef772c09f3cc div.sk-label label {font-family: monospace;font-weight: bold;background-color: white;display: inline-block;line-height: 1.2em;}#sk-1ea5c94d-463c-42c1-9a9e-ef772c09f3cc div.sk-label-container {position: relative;z-index: 2;text-align: center;}#sk-1ea5c94d-463c-42c1-9a9e-ef772c09f3cc div.sk-container {/* jupyter's `normalize.less` sets `[hidden] { display: none; }` but bootstrap.min.css set `[hidden] { display: none !important; }` so we also need the `!important` here to be able to override the default hidden behavior on the sphinx rendered scikit-learn.org. See: https://github.com/scikit-learn/scikit-learn/issues/21755 */display: inline-block !important;position: relative;}#sk-1ea5c94d-463c-42c1-9a9e-ef772c09f3cc div.sk-text-repr-fallback {display: none;}</style><div id=\"sk-1ea5c94d-463c-42c1-9a9e-ef772c09f3cc\" class=\"sk-top-container\"><div class=\"sk-text-repr-fallback\"><pre>LogisticRegression()</pre><b>Please rerun this cell to show the HTML repr or trust the notebook.</b></div><div class=\"sk-container\" hidden><div class=\"sk-item\"><div class=\"sk-estimator sk-toggleable\"><input class=\"sk-toggleable__control sk-hidden--visually\" id=\"5f3df80a-4468-438a-806d-740288f7785d\" type=\"checkbox\" checked><label for=\"5f3df80a-4468-438a-806d-740288f7785d\" class=\"sk-toggleable__label sk-toggleable__label-arrow\">LogisticRegression</label><div class=\"sk-toggleable__content\"><pre>LogisticRegression()</pre></div></div></div></div></div>"
      ],
      "text/plain": [
       "LogisticRegression()"
      ]
     },
     "execution_count": 7,
     "metadata": {},
     "output_type": "execute_result"
    }
   ],
   "source": [
    "model = LogisticRegression()\n",
    "model.fit(train_preprocessed, y_train)"
   ]
  },
  {
   "cell_type": "markdown",
   "id": "1887df33",
   "metadata": {},
   "source": [
    "We need to preprocess the test dataset in the same way before evaluating:"
   ]
  },
  {
   "cell_type": "code",
   "execution_count": 8,
   "id": "c7b80989",
   "metadata": {},
   "outputs": [
    {
     "name": "stdout",
     "output_type": "stream",
     "text": [
      "Train ROC-AUC: 0.8670\n",
      "Test ROC-AUC: 0.8332\n"
     ]
    }
   ],
   "source": [
    "test_num_imputed = num_imputer.transform(X_test[NUMERICAL])\n",
    "test_num_scaled = scaler.transform(test_num_imputed)\n",
    "test_cat_imputed = cat_imputer.transform(X_test[CATEGORICAL])\n",
    "test_cat_encoded = encoder.transform(test_cat_imputed)\n",
    "test_preprocessed = np.concatenate((test_num_scaled, test_cat_encoded), axis=1)\n",
    "\n",
    "print(f\"Train ROC-AUC: {calculate_roc_auc(model, train_preprocessed, y_train):.4f}\")\n",
    "print(f\"Test ROC-AUC: {calculate_roc_auc(model, test_preprocessed, y_test):.4f}\")"
   ]
  },
  {
   "cell_type": "markdown",
   "id": "2acf6b7c",
   "metadata": {},
   "source": [
    "Awesome, this time the approach was correct. But writing good code doesn’t stop at being correct. For each preprocessing step, we stored interim outputs for both training and test datasets. When the number of preprocessing steps increase, this will soon become very tedious to keep up and therefore prone to error like missing a step in preprocessing the test data. This code can be made more organised, streamlined and readable. That’s what we will do in the next sections."
   ]
  },
  {
   "cell_type": "markdown",
   "id": "9ae56bc6",
   "metadata": {},
   "source": [
    "### Elegant Approach #1\n",
    "Let’s streamline the previous code using Scikit-learn’s Pipeline and ColumnTransformer. If you aren’t familiar with them, this post explains them concisely."
   ]
  },
  {
   "cell_type": "code",
   "execution_count": 9,
   "id": "3292a150",
   "metadata": {},
   "outputs": [
    {
     "data": {
      "text/html": [
       "<style>#sk-e230760b-27c7-4c42-bb04-8bdfaf2f30f2 {color: black;background-color: white;}#sk-e230760b-27c7-4c42-bb04-8bdfaf2f30f2 pre{padding: 0;}#sk-e230760b-27c7-4c42-bb04-8bdfaf2f30f2 div.sk-toggleable {background-color: white;}#sk-e230760b-27c7-4c42-bb04-8bdfaf2f30f2 label.sk-toggleable__label {cursor: pointer;display: block;width: 100%;margin-bottom: 0;padding: 0.3em;box-sizing: border-box;text-align: center;}#sk-e230760b-27c7-4c42-bb04-8bdfaf2f30f2 label.sk-toggleable__label-arrow:before {content: \"▸\";float: left;margin-right: 0.25em;color: #696969;}#sk-e230760b-27c7-4c42-bb04-8bdfaf2f30f2 label.sk-toggleable__label-arrow:hover:before {color: black;}#sk-e230760b-27c7-4c42-bb04-8bdfaf2f30f2 div.sk-estimator:hover label.sk-toggleable__label-arrow:before {color: black;}#sk-e230760b-27c7-4c42-bb04-8bdfaf2f30f2 div.sk-toggleable__content {max-height: 0;max-width: 0;overflow: hidden;text-align: left;background-color: #f0f8ff;}#sk-e230760b-27c7-4c42-bb04-8bdfaf2f30f2 div.sk-toggleable__content pre {margin: 0.2em;color: black;border-radius: 0.25em;background-color: #f0f8ff;}#sk-e230760b-27c7-4c42-bb04-8bdfaf2f30f2 input.sk-toggleable__control:checked~div.sk-toggleable__content {max-height: 200px;max-width: 100%;overflow: auto;}#sk-e230760b-27c7-4c42-bb04-8bdfaf2f30f2 input.sk-toggleable__control:checked~label.sk-toggleable__label-arrow:before {content: \"▾\";}#sk-e230760b-27c7-4c42-bb04-8bdfaf2f30f2 div.sk-estimator input.sk-toggleable__control:checked~label.sk-toggleable__label {background-color: #d4ebff;}#sk-e230760b-27c7-4c42-bb04-8bdfaf2f30f2 div.sk-label input.sk-toggleable__control:checked~label.sk-toggleable__label {background-color: #d4ebff;}#sk-e230760b-27c7-4c42-bb04-8bdfaf2f30f2 input.sk-hidden--visually {border: 0;clip: rect(1px 1px 1px 1px);clip: rect(1px, 1px, 1px, 1px);height: 1px;margin: -1px;overflow: hidden;padding: 0;position: absolute;width: 1px;}#sk-e230760b-27c7-4c42-bb04-8bdfaf2f30f2 div.sk-estimator {font-family: monospace;background-color: #f0f8ff;border: 1px dotted black;border-radius: 0.25em;box-sizing: border-box;margin-bottom: 0.5em;}#sk-e230760b-27c7-4c42-bb04-8bdfaf2f30f2 div.sk-estimator:hover {background-color: #d4ebff;}#sk-e230760b-27c7-4c42-bb04-8bdfaf2f30f2 div.sk-parallel-item::after {content: \"\";width: 100%;border-bottom: 1px solid gray;flex-grow: 1;}#sk-e230760b-27c7-4c42-bb04-8bdfaf2f30f2 div.sk-label:hover label.sk-toggleable__label {background-color: #d4ebff;}#sk-e230760b-27c7-4c42-bb04-8bdfaf2f30f2 div.sk-serial::before {content: \"\";position: absolute;border-left: 1px solid gray;box-sizing: border-box;top: 2em;bottom: 0;left: 50%;}#sk-e230760b-27c7-4c42-bb04-8bdfaf2f30f2 div.sk-serial {display: flex;flex-direction: column;align-items: center;background-color: white;padding-right: 0.2em;padding-left: 0.2em;}#sk-e230760b-27c7-4c42-bb04-8bdfaf2f30f2 div.sk-item {z-index: 1;}#sk-e230760b-27c7-4c42-bb04-8bdfaf2f30f2 div.sk-parallel {display: flex;align-items: stretch;justify-content: center;background-color: white;}#sk-e230760b-27c7-4c42-bb04-8bdfaf2f30f2 div.sk-parallel::before {content: \"\";position: absolute;border-left: 1px solid gray;box-sizing: border-box;top: 2em;bottom: 0;left: 50%;}#sk-e230760b-27c7-4c42-bb04-8bdfaf2f30f2 div.sk-parallel-item {display: flex;flex-direction: column;position: relative;background-color: white;}#sk-e230760b-27c7-4c42-bb04-8bdfaf2f30f2 div.sk-parallel-item:first-child::after {align-self: flex-end;width: 50%;}#sk-e230760b-27c7-4c42-bb04-8bdfaf2f30f2 div.sk-parallel-item:last-child::after {align-self: flex-start;width: 50%;}#sk-e230760b-27c7-4c42-bb04-8bdfaf2f30f2 div.sk-parallel-item:only-child::after {width: 0;}#sk-e230760b-27c7-4c42-bb04-8bdfaf2f30f2 div.sk-dashed-wrapped {border: 1px dashed gray;margin: 0 0.4em 0.5em 0.4em;box-sizing: border-box;padding-bottom: 0.4em;background-color: white;position: relative;}#sk-e230760b-27c7-4c42-bb04-8bdfaf2f30f2 div.sk-label label {font-family: monospace;font-weight: bold;background-color: white;display: inline-block;line-height: 1.2em;}#sk-e230760b-27c7-4c42-bb04-8bdfaf2f30f2 div.sk-label-container {position: relative;z-index: 2;text-align: center;}#sk-e230760b-27c7-4c42-bb04-8bdfaf2f30f2 div.sk-container {/* jupyter's `normalize.less` sets `[hidden] { display: none; }` but bootstrap.min.css set `[hidden] { display: none !important; }` so we also need the `!important` here to be able to override the default hidden behavior on the sphinx rendered scikit-learn.org. See: https://github.com/scikit-learn/scikit-learn/issues/21755 */display: inline-block !important;position: relative;}#sk-e230760b-27c7-4c42-bb04-8bdfaf2f30f2 div.sk-text-repr-fallback {display: none;}</style><div id=\"sk-e230760b-27c7-4c42-bb04-8bdfaf2f30f2\" class=\"sk-top-container\"><div class=\"sk-text-repr-fallback\"><pre>Pipeline(steps=[(&#x27;preprocessors&#x27;,\n",
       "                 ColumnTransformer(transformers=[(&#x27;num&#x27;,\n",
       "                                                  Pipeline(steps=[(&#x27;imputer&#x27;,\n",
       "                                                                   SimpleImputer()),\n",
       "                                                                  (&#x27;scaler&#x27;,\n",
       "                                                                   MinMaxScaler())]),\n",
       "                                                  Index([&#x27;pclass&#x27;, &#x27;age&#x27;, &#x27;sibsp&#x27;, &#x27;parch&#x27;, &#x27;fare&#x27;], dtype=&#x27;object&#x27;)),\n",
       "                                                 (&#x27;cat&#x27;,\n",
       "                                                  Pipeline(steps=[(&#x27;imputer&#x27;,\n",
       "                                                                   SimpleImputer(fill_value=&#x27;missing&#x27;,\n",
       "                                                                                 strategy=&#x27;constant&#x27;)),\n",
       "                                                                  (&#x27;encoder&#x27;,\n",
       "                                                                   OneHotEncoder(drop=&#x27;first&#x27;,\n",
       "                                                                                 handle_unknown=&#x27;ignore&#x27;,\n",
       "                                                                                 sparse=False))]),\n",
       "                                                  Index([&#x27;deck&#x27;, &#x27;embark_town&#x27;, &#x27;sex&#x27;], dtype=&#x27;object&#x27;))])),\n",
       "                (&#x27;model&#x27;, LogisticRegression())])</pre><b>Please rerun this cell to show the HTML repr or trust the notebook.</b></div><div class=\"sk-container\" hidden><div class=\"sk-item sk-dashed-wrapped\"><div class=\"sk-label-container\"><div class=\"sk-label sk-toggleable\"><input class=\"sk-toggleable__control sk-hidden--visually\" id=\"197b603e-4b00-4b3d-bf2a-4dff6904a294\" type=\"checkbox\" ><label for=\"197b603e-4b00-4b3d-bf2a-4dff6904a294\" class=\"sk-toggleable__label sk-toggleable__label-arrow\">Pipeline</label><div class=\"sk-toggleable__content\"><pre>Pipeline(steps=[(&#x27;preprocessors&#x27;,\n",
       "                 ColumnTransformer(transformers=[(&#x27;num&#x27;,\n",
       "                                                  Pipeline(steps=[(&#x27;imputer&#x27;,\n",
       "                                                                   SimpleImputer()),\n",
       "                                                                  (&#x27;scaler&#x27;,\n",
       "                                                                   MinMaxScaler())]),\n",
       "                                                  Index([&#x27;pclass&#x27;, &#x27;age&#x27;, &#x27;sibsp&#x27;, &#x27;parch&#x27;, &#x27;fare&#x27;], dtype=&#x27;object&#x27;)),\n",
       "                                                 (&#x27;cat&#x27;,\n",
       "                                                  Pipeline(steps=[(&#x27;imputer&#x27;,\n",
       "                                                                   SimpleImputer(fill_value=&#x27;missing&#x27;,\n",
       "                                                                                 strategy=&#x27;constant&#x27;)),\n",
       "                                                                  (&#x27;encoder&#x27;,\n",
       "                                                                   OneHotEncoder(drop=&#x27;first&#x27;,\n",
       "                                                                                 handle_unknown=&#x27;ignore&#x27;,\n",
       "                                                                                 sparse=False))]),\n",
       "                                                  Index([&#x27;deck&#x27;, &#x27;embark_town&#x27;, &#x27;sex&#x27;], dtype=&#x27;object&#x27;))])),\n",
       "                (&#x27;model&#x27;, LogisticRegression())])</pre></div></div></div><div class=\"sk-serial\"><div class=\"sk-item sk-dashed-wrapped\"><div class=\"sk-label-container\"><div class=\"sk-label sk-toggleable\"><input class=\"sk-toggleable__control sk-hidden--visually\" id=\"a585716d-669f-4b17-a843-50d4184dbcf9\" type=\"checkbox\" ><label for=\"a585716d-669f-4b17-a843-50d4184dbcf9\" class=\"sk-toggleable__label sk-toggleable__label-arrow\">preprocessors: ColumnTransformer</label><div class=\"sk-toggleable__content\"><pre>ColumnTransformer(transformers=[(&#x27;num&#x27;,\n",
       "                                 Pipeline(steps=[(&#x27;imputer&#x27;, SimpleImputer()),\n",
       "                                                 (&#x27;scaler&#x27;, MinMaxScaler())]),\n",
       "                                 Index([&#x27;pclass&#x27;, &#x27;age&#x27;, &#x27;sibsp&#x27;, &#x27;parch&#x27;, &#x27;fare&#x27;], dtype=&#x27;object&#x27;)),\n",
       "                                (&#x27;cat&#x27;,\n",
       "                                 Pipeline(steps=[(&#x27;imputer&#x27;,\n",
       "                                                  SimpleImputer(fill_value=&#x27;missing&#x27;,\n",
       "                                                                strategy=&#x27;constant&#x27;)),\n",
       "                                                 (&#x27;encoder&#x27;,\n",
       "                                                  OneHotEncoder(drop=&#x27;first&#x27;,\n",
       "                                                                handle_unknown=&#x27;ignore&#x27;,\n",
       "                                                                sparse=False))]),\n",
       "                                 Index([&#x27;deck&#x27;, &#x27;embark_town&#x27;, &#x27;sex&#x27;], dtype=&#x27;object&#x27;))])</pre></div></div></div><div class=\"sk-parallel\"><div class=\"sk-parallel-item\"><div class=\"sk-item\"><div class=\"sk-label-container\"><div class=\"sk-label sk-toggleable\"><input class=\"sk-toggleable__control sk-hidden--visually\" id=\"d997d887-b4fa-49a1-a05f-243e5d2b3ada\" type=\"checkbox\" ><label for=\"d997d887-b4fa-49a1-a05f-243e5d2b3ada\" class=\"sk-toggleable__label sk-toggleable__label-arrow\">num</label><div class=\"sk-toggleable__content\"><pre>Index([&#x27;pclass&#x27;, &#x27;age&#x27;, &#x27;sibsp&#x27;, &#x27;parch&#x27;, &#x27;fare&#x27;], dtype=&#x27;object&#x27;)</pre></div></div></div><div class=\"sk-serial\"><div class=\"sk-item\"><div class=\"sk-serial\"><div class=\"sk-item\"><div class=\"sk-estimator sk-toggleable\"><input class=\"sk-toggleable__control sk-hidden--visually\" id=\"13ec6908-6546-452c-8ec3-166673dd7250\" type=\"checkbox\" ><label for=\"13ec6908-6546-452c-8ec3-166673dd7250\" class=\"sk-toggleable__label sk-toggleable__label-arrow\">SimpleImputer</label><div class=\"sk-toggleable__content\"><pre>SimpleImputer()</pre></div></div></div><div class=\"sk-item\"><div class=\"sk-estimator sk-toggleable\"><input class=\"sk-toggleable__control sk-hidden--visually\" id=\"bb965a1c-8d9a-405f-8391-f2b9ed01dde2\" type=\"checkbox\" ><label for=\"bb965a1c-8d9a-405f-8391-f2b9ed01dde2\" class=\"sk-toggleable__label sk-toggleable__label-arrow\">MinMaxScaler</label><div class=\"sk-toggleable__content\"><pre>MinMaxScaler()</pre></div></div></div></div></div></div></div></div><div class=\"sk-parallel-item\"><div class=\"sk-item\"><div class=\"sk-label-container\"><div class=\"sk-label sk-toggleable\"><input class=\"sk-toggleable__control sk-hidden--visually\" id=\"f0df4740-0c6f-448d-9177-c31340d72f07\" type=\"checkbox\" ><label for=\"f0df4740-0c6f-448d-9177-c31340d72f07\" class=\"sk-toggleable__label sk-toggleable__label-arrow\">cat</label><div class=\"sk-toggleable__content\"><pre>Index([&#x27;deck&#x27;, &#x27;embark_town&#x27;, &#x27;sex&#x27;], dtype=&#x27;object&#x27;)</pre></div></div></div><div class=\"sk-serial\"><div class=\"sk-item\"><div class=\"sk-serial\"><div class=\"sk-item\"><div class=\"sk-estimator sk-toggleable\"><input class=\"sk-toggleable__control sk-hidden--visually\" id=\"c73829bf-2674-4f7f-bf8d-da2345e3c603\" type=\"checkbox\" ><label for=\"c73829bf-2674-4f7f-bf8d-da2345e3c603\" class=\"sk-toggleable__label sk-toggleable__label-arrow\">SimpleImputer</label><div class=\"sk-toggleable__content\"><pre>SimpleImputer(fill_value=&#x27;missing&#x27;, strategy=&#x27;constant&#x27;)</pre></div></div></div><div class=\"sk-item\"><div class=\"sk-estimator sk-toggleable\"><input class=\"sk-toggleable__control sk-hidden--visually\" id=\"e842cb21-0690-43b0-ad26-308e6df7f7a4\" type=\"checkbox\" ><label for=\"e842cb21-0690-43b0-ad26-308e6df7f7a4\" class=\"sk-toggleable__label sk-toggleable__label-arrow\">OneHotEncoder</label><div class=\"sk-toggleable__content\"><pre>OneHotEncoder(drop=&#x27;first&#x27;, handle_unknown=&#x27;ignore&#x27;, sparse=False)</pre></div></div></div></div></div></div></div></div></div></div><div class=\"sk-item\"><div class=\"sk-estimator sk-toggleable\"><input class=\"sk-toggleable__control sk-hidden--visually\" id=\"7d1e5577-1fbe-445c-ba10-3b6be3cdf4c7\" type=\"checkbox\" ><label for=\"7d1e5577-1fbe-445c-ba10-3b6be3cdf4c7\" class=\"sk-toggleable__label sk-toggleable__label-arrow\">LogisticRegression</label><div class=\"sk-toggleable__content\"><pre>LogisticRegression()</pre></div></div></div></div></div></div></div>"
      ],
      "text/plain": [
       "Pipeline(steps=[('preprocessors',\n",
       "                 ColumnTransformer(transformers=[('num',\n",
       "                                                  Pipeline(steps=[('imputer',\n",
       "                                                                   SimpleImputer()),\n",
       "                                                                  ('scaler',\n",
       "                                                                   MinMaxScaler())]),\n",
       "                                                  Index(['pclass', 'age', 'sibsp', 'parch', 'fare'], dtype='object')),\n",
       "                                                 ('cat',\n",
       "                                                  Pipeline(steps=[('imputer',\n",
       "                                                                   SimpleImputer(fill_value='missing',\n",
       "                                                                                 strategy='constant')),\n",
       "                                                                  ('encoder',\n",
       "                                                                   OneHotEncoder(drop='first',\n",
       "                                                                                 handle_unknown='ignore',\n",
       "                                                                                 sparse=False))]),\n",
       "                                                  Index(['deck', 'embark_town', 'sex'], dtype='object'))])),\n",
       "                ('model', LogisticRegression())])"
      ]
     },
     "execution_count": 9,
     "metadata": {},
     "output_type": "execute_result"
    }
   ],
   "source": [
    "numerical_pipe = Pipeline([\n",
    "    ('imputer', SimpleImputer(strategy='mean')),\n",
    "    ('scaler', MinMaxScaler())\n",
    "])\n",
    "\n",
    "categorical_pipe = Pipeline([\n",
    "    ('imputer', SimpleImputer(strategy='constant', fill_value='missing')),\n",
    "    ('encoder', OneHotEncoder(drop='first', handle_unknown='ignore', sparse=False))\n",
    "])\n",
    "\n",
    "preprocessors = ColumnTransformer(transformers=[\n",
    "    ('num', numerical_pipe, NUMERICAL),\n",
    "    ('cat', categorical_pipe, CATEGORICAL)\n",
    "])\n",
    "\n",
    "pipe = Pipeline([\n",
    "    ('preprocessors', preprocessors),\n",
    "    ('model', LogisticRegression())\n",
    "])\n",
    "\n",
    "pipe.fit(X_train, y_train)"
   ]
  },
  {
   "cell_type": "markdown",
   "id": "c9809f15",
   "metadata": {},
   "source": [
    "The pipeline:\n",
    "\n",
    "  - Splits input data into numerical and categorical groups\n",
    "  - Preprocesses both groups in parallel\n",
    "  - Concatenates the preprocessed data from both groups\n",
    "  - Passes the preprocessed data into the model\n",
    "\n",
    "When raw data is passed to the trained pipeline, it will preprocess and make a prediction. This means we no longer have to store interim results for both training and test dataset. Scoring unseen data is as simple as pipe.predict(). That’s very elegant, isn’t it? Now, let’s evaluate the performance of the model:"
   ]
  },
  {
   "cell_type": "code",
   "execution_count": 10,
   "id": "985d76f0",
   "metadata": {},
   "outputs": [
    {
     "name": "stdout",
     "output_type": "stream",
     "text": [
      "Train ROC-AUC: 0.8670\n",
      "Test ROC-AUC: 0.8332\n"
     ]
    }
   ],
   "source": [
    "print(f\"Train ROC-AUC: {calculate_roc_auc(pipe, X_train, y_train):.4f}\")\n",
    "print(f\"Test ROC-AUC: {calculate_roc_auc(pipe, X_test, y_test):.4f}\")"
   ]
  },
  {
   "cell_type": "markdown",
   "id": "29a74e77",
   "metadata": {},
   "source": [
    "Great to see that it matches the performance of previous approach since the transformation was exactly the same but just written in a more elegant way. For our small example, this is the best approach among the four approaches shown in this post.\n",
    "\n",
    "Scikit-learn’s out-of-the-box transformers such as OneHotEncoder and SimpleImputer are fast and efficient. However, these prebuilt transformers may not always fulfill our unique preprocessing needs. In those cases, being familiar with the next approach gives us more control over bespoke ways of preprocessing."
   ]
  },
  {
   "cell_type": "code",
   "execution_count": null,
   "id": "91309655",
   "metadata": {},
   "outputs": [],
   "source": []
  }
 ],
 "metadata": {
  "kernelspec": {
   "display_name": "Python 3 (ipykernel)",
   "language": "python",
   "name": "python3"
  },
  "language_info": {
   "codemirror_mode": {
    "name": "ipython",
    "version": 3
   },
   "file_extension": ".py",
   "mimetype": "text/x-python",
   "name": "python",
   "nbconvert_exporter": "python",
   "pygments_lexer": "ipython3",
   "version": "3.9.13"
  }
 },
 "nbformat": 4,
 "nbformat_minor": 5
}
