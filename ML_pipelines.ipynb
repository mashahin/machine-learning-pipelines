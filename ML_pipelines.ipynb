{
 "cells": [
  {
   "cell_type": "markdown",
   "id": "3b36badd",
   "metadata": {},
   "source": [
    "## Machine Learning Pipelines\n",
    "Building machine learning models is not only about choosing the right algorithm and tuning its hyperparameters. Significant amount of time is spent wrangling data and feature engineering before model experimentation begins. These preprocessing steps can easily overwhelm your worklflow and become hard to track. Focusing from ML model to ML pipeline and seeing the preprocessing steps as an integral part of building a model can help keep your workflow more organised. In this post, we will first look at wrong way to preprocess data for a model, then will learn a correct approach followed by two ways to build a machine learning (ML) pipeline.\n",
    "\n",
    "ML Pipeline has many definitions depending on the context. In this post, ML Pipeline is defined as a collection of preprocessing steps and a model. This means when raw data is passed to the ML Pipeline, it preprocesses the data to the right format, scores the data using the model and pops out a prediction score."
   ]
  },
  {
   "cell_type": "markdown",
   "id": "88044aea",
   "metadata": {},
   "source": [
    "### Setup\n",
    "Let’s import libraries and a sample data: a subset of the titanic dataset (the data is available through Seaborn under the BSD-3 licence)."
   ]
  },
  {
   "cell_type": "code",
   "execution_count": 1,
   "id": "2ec88b9f",
   "metadata": {},
   "outputs": [
    {
     "name": "stdout",
     "output_type": "stream",
     "text": [
      "(891, 9)\n"
     ]
    },
    {
     "data": {
      "text/html": [
       "<div>\n",
       "<style scoped>\n",
       "    .dataframe tbody tr th:only-of-type {\n",
       "        vertical-align: middle;\n",
       "    }\n",
       "\n",
       "    .dataframe tbody tr th {\n",
       "        vertical-align: top;\n",
       "    }\n",
       "\n",
       "    .dataframe thead th {\n",
       "        text-align: right;\n",
       "    }\n",
       "</style>\n",
       "<table border=\"1\" class=\"dataframe\">\n",
       "  <thead>\n",
       "    <tr style=\"text-align: right;\">\n",
       "      <th></th>\n",
       "      <th>survived</th>\n",
       "      <th>pclass</th>\n",
       "      <th>sex</th>\n",
       "      <th>age</th>\n",
       "      <th>sibsp</th>\n",
       "      <th>parch</th>\n",
       "      <th>fare</th>\n",
       "      <th>deck</th>\n",
       "      <th>embark_town</th>\n",
       "    </tr>\n",
       "  </thead>\n",
       "  <tbody>\n",
       "    <tr>\n",
       "      <th>0</th>\n",
       "      <td>0</td>\n",
       "      <td>3</td>\n",
       "      <td>male</td>\n",
       "      <td>22.0</td>\n",
       "      <td>1</td>\n",
       "      <td>0</td>\n",
       "      <td>7.2500</td>\n",
       "      <td>NaN</td>\n",
       "      <td>Southampton</td>\n",
       "    </tr>\n",
       "    <tr>\n",
       "      <th>1</th>\n",
       "      <td>1</td>\n",
       "      <td>1</td>\n",
       "      <td>female</td>\n",
       "      <td>38.0</td>\n",
       "      <td>1</td>\n",
       "      <td>0</td>\n",
       "      <td>71.2833</td>\n",
       "      <td>C</td>\n",
       "      <td>Cherbourg</td>\n",
       "    </tr>\n",
       "    <tr>\n",
       "      <th>2</th>\n",
       "      <td>1</td>\n",
       "      <td>3</td>\n",
       "      <td>female</td>\n",
       "      <td>26.0</td>\n",
       "      <td>0</td>\n",
       "      <td>0</td>\n",
       "      <td>7.9250</td>\n",
       "      <td>NaN</td>\n",
       "      <td>Southampton</td>\n",
       "    </tr>\n",
       "    <tr>\n",
       "      <th>3</th>\n",
       "      <td>1</td>\n",
       "      <td>1</td>\n",
       "      <td>female</td>\n",
       "      <td>35.0</td>\n",
       "      <td>1</td>\n",
       "      <td>0</td>\n",
       "      <td>53.1000</td>\n",
       "      <td>C</td>\n",
       "      <td>Southampton</td>\n",
       "    </tr>\n",
       "    <tr>\n",
       "      <th>4</th>\n",
       "      <td>0</td>\n",
       "      <td>3</td>\n",
       "      <td>male</td>\n",
       "      <td>35.0</td>\n",
       "      <td>0</td>\n",
       "      <td>0</td>\n",
       "      <td>8.0500</td>\n",
       "      <td>NaN</td>\n",
       "      <td>Southampton</td>\n",
       "    </tr>\n",
       "  </tbody>\n",
       "</table>\n",
       "</div>"
      ],
      "text/plain": [
       "   survived  pclass     sex   age  sibsp  parch     fare deck  embark_town\n",
       "0         0       3    male  22.0      1      0   7.2500  NaN  Southampton\n",
       "1         1       1  female  38.0      1      0  71.2833    C    Cherbourg\n",
       "2         1       3  female  26.0      0      0   7.9250  NaN  Southampton\n",
       "3         1       1  female  35.0      1      0  53.1000    C  Southampton\n",
       "4         0       3    male  35.0      0      0   8.0500  NaN  Southampton"
      ]
     },
     "execution_count": 1,
     "metadata": {},
     "output_type": "execute_result"
    }
   ],
   "source": [
    "# Data manipulation\n",
    "from seaborn import load_dataset\n",
    "import numpy as np\n",
    "import pandas as pd\n",
    "pd.options.display.precision = 4\n",
    "pd.options.mode.chained_assignment = None  \n",
    "\n",
    "# Machine learning pipeline\n",
    "from sklearn.model_selection import train_test_split\n",
    "from sklearn.base import BaseEstimator, TransformerMixin\n",
    "from sklearn.impute import SimpleImputer\n",
    "from sklearn.preprocessing import OneHotEncoder, MinMaxScaler\n",
    "from sklearn.compose import ColumnTransformer\n",
    "from sklearn.pipeline import Pipeline\n",
    "from sklearn.linear_model import LogisticRegression\n",
    "from sklearn.metrics import roc_auc_score\n",
    "from sklearn import set_config\n",
    "set_config(display=\"diagram\")\n",
    "\n",
    "# Load data\n",
    "columns = ['alive', 'class', 'embarked', 'who', 'alone', 'adult_male']\n",
    "df = load_dataset('titanic').drop(columns=columns)\n",
    "df['deck'] = df['deck'].astype('object')\n",
    "print(df.shape)\n",
    "df.head()"
   ]
  },
  {
   "cell_type": "markdown",
   "id": "ad37a02c",
   "metadata": {},
   "source": [
    "We will now define commonly used variables to easily reference later on:"
   ]
  },
  {
   "cell_type": "code",
   "execution_count": 2,
   "id": "90cf7a20",
   "metadata": {},
   "outputs": [
    {
     "name": "stdout",
     "output_type": "stream",
     "text": [
      "Numerical features: pclass, age, sibsp, parch, fare\n",
      "Categorical features: deck, embark_town, sex\n"
     ]
    }
   ],
   "source": [
    "SEED = 42\n",
    "TARGET = 'survived'\n",
    "FEATURES = df.columns.drop(TARGET)\n",
    "\n",
    "NUMERICAL = df[FEATURES].select_dtypes('number').columns\n",
    "print(f\"Numerical features: {', '.join(NUMERICAL)}\")\n",
    "\n",
    "CATEGORICAL = pd.Index(np.setdiff1d(FEATURES, NUMERICAL))\n",
    "print(f\"Categorical features: {', '.join(CATEGORICAL)}\")"
   ]
  },
  {
   "cell_type": "markdown",
   "id": "24cbf1aa",
   "metadata": {},
   "source": [
    "### Wrong Approach\n",
    "It’s not uncommon to use pandas methods like this when preprocessing:"
   ]
  },
  {
   "cell_type": "code",
   "execution_count": 3,
   "id": "e34c2ae0",
   "metadata": {},
   "outputs": [
    {
     "data": {
      "text/html": [
       "<div>\n",
       "<style scoped>\n",
       "    .dataframe tbody tr th:only-of-type {\n",
       "        vertical-align: middle;\n",
       "    }\n",
       "\n",
       "    .dataframe tbody tr th {\n",
       "        vertical-align: top;\n",
       "    }\n",
       "\n",
       "    .dataframe thead th {\n",
       "        text-align: right;\n",
       "    }\n",
       "</style>\n",
       "<table border=\"1\" class=\"dataframe\">\n",
       "  <thead>\n",
       "    <tr style=\"text-align: right;\">\n",
       "      <th></th>\n",
       "      <th>pclass</th>\n",
       "      <th>age</th>\n",
       "      <th>sibsp</th>\n",
       "      <th>parch</th>\n",
       "      <th>fare</th>\n",
       "      <th>deck_B</th>\n",
       "      <th>deck_C</th>\n",
       "      <th>deck_D</th>\n",
       "      <th>deck_E</th>\n",
       "      <th>deck_F</th>\n",
       "      <th>deck_G</th>\n",
       "      <th>deck_missing</th>\n",
       "      <th>embark_town_Queenstown</th>\n",
       "      <th>embark_town_Southampton</th>\n",
       "      <th>embark_town_missing</th>\n",
       "      <th>sex_male</th>\n",
       "    </tr>\n",
       "  </thead>\n",
       "  <tbody>\n",
       "    <tr>\n",
       "      <th>0</th>\n",
       "      <td>1.0</td>\n",
       "      <td>0.2712</td>\n",
       "      <td>0.125</td>\n",
       "      <td>0.0</td>\n",
       "      <td>0.0142</td>\n",
       "      <td>0</td>\n",
       "      <td>0</td>\n",
       "      <td>0</td>\n",
       "      <td>0</td>\n",
       "      <td>0</td>\n",
       "      <td>0</td>\n",
       "      <td>1</td>\n",
       "      <td>0</td>\n",
       "      <td>1</td>\n",
       "      <td>0</td>\n",
       "      <td>1</td>\n",
       "    </tr>\n",
       "    <tr>\n",
       "      <th>1</th>\n",
       "      <td>0.0</td>\n",
       "      <td>0.4722</td>\n",
       "      <td>0.125</td>\n",
       "      <td>0.0</td>\n",
       "      <td>0.1391</td>\n",
       "      <td>0</td>\n",
       "      <td>1</td>\n",
       "      <td>0</td>\n",
       "      <td>0</td>\n",
       "      <td>0</td>\n",
       "      <td>0</td>\n",
       "      <td>0</td>\n",
       "      <td>0</td>\n",
       "      <td>0</td>\n",
       "      <td>0</td>\n",
       "      <td>0</td>\n",
       "    </tr>\n",
       "    <tr>\n",
       "      <th>2</th>\n",
       "      <td>1.0</td>\n",
       "      <td>0.3214</td>\n",
       "      <td>0.000</td>\n",
       "      <td>0.0</td>\n",
       "      <td>0.0155</td>\n",
       "      <td>0</td>\n",
       "      <td>0</td>\n",
       "      <td>0</td>\n",
       "      <td>0</td>\n",
       "      <td>0</td>\n",
       "      <td>0</td>\n",
       "      <td>1</td>\n",
       "      <td>0</td>\n",
       "      <td>1</td>\n",
       "      <td>0</td>\n",
       "      <td>0</td>\n",
       "    </tr>\n",
       "    <tr>\n",
       "      <th>3</th>\n",
       "      <td>0.0</td>\n",
       "      <td>0.4345</td>\n",
       "      <td>0.125</td>\n",
       "      <td>0.0</td>\n",
       "      <td>0.1036</td>\n",
       "      <td>0</td>\n",
       "      <td>1</td>\n",
       "      <td>0</td>\n",
       "      <td>0</td>\n",
       "      <td>0</td>\n",
       "      <td>0</td>\n",
       "      <td>0</td>\n",
       "      <td>0</td>\n",
       "      <td>1</td>\n",
       "      <td>0</td>\n",
       "      <td>0</td>\n",
       "    </tr>\n",
       "    <tr>\n",
       "      <th>4</th>\n",
       "      <td>1.0</td>\n",
       "      <td>0.4345</td>\n",
       "      <td>0.000</td>\n",
       "      <td>0.0</td>\n",
       "      <td>0.0157</td>\n",
       "      <td>0</td>\n",
       "      <td>0</td>\n",
       "      <td>0</td>\n",
       "      <td>0</td>\n",
       "      <td>0</td>\n",
       "      <td>0</td>\n",
       "      <td>1</td>\n",
       "      <td>0</td>\n",
       "      <td>1</td>\n",
       "      <td>0</td>\n",
       "      <td>1</td>\n",
       "    </tr>\n",
       "  </tbody>\n",
       "</table>\n",
       "</div>"
      ],
      "text/plain": [
       "   pclass     age  sibsp  parch    fare  deck_B  deck_C  deck_D  deck_E  \\\n",
       "0     1.0  0.2712  0.125    0.0  0.0142       0       0       0       0   \n",
       "1     0.0  0.4722  0.125    0.0  0.1391       0       1       0       0   \n",
       "2     1.0  0.3214  0.000    0.0  0.0155       0       0       0       0   \n",
       "3     0.0  0.4345  0.125    0.0  0.1036       0       1       0       0   \n",
       "4     1.0  0.4345  0.000    0.0  0.0157       0       0       0       0   \n",
       "\n",
       "   deck_F  deck_G  deck_missing  embark_town_Queenstown  \\\n",
       "0       0       0             1                       0   \n",
       "1       0       0             0                       0   \n",
       "2       0       0             1                       0   \n",
       "3       0       0             0                       0   \n",
       "4       0       0             1                       0   \n",
       "\n",
       "   embark_town_Southampton  embark_town_missing  sex_male  \n",
       "0                        1                    0         1  \n",
       "1                        0                    0         0  \n",
       "2                        1                    0         0  \n",
       "3                        1                    0         0  \n",
       "4                        1                    0         1  "
      ]
     },
     "execution_count": 3,
     "metadata": {},
     "output_type": "execute_result"
    }
   ],
   "source": [
    "# Impute numerical variables with mean\n",
    "df_num_imputed = df[NUMERICAL].fillna(df[NUMERICAL].mean())\n",
    "# Normalise numerical variables\n",
    "df_num_scaled = df_num_imputed.subtract(df_num_imputed.min(), axis=1)\\\n",
    "                              .divide(df_num_imputed.max()-df_num_imputed.min(), axis=1)\n",
    "\n",
    "# Impute categorical variables with a constant\n",
    "df_cat_imputed = df[CATEGORICAL].fillna('missing')\n",
    "# One-hot-encode categorical variables\n",
    "df_cat_encoded = pd.get_dummies(df_cat_imputed, drop_first=True)\n",
    "\n",
    "# Merge data\n",
    "df_preprocessed = df_num_scaled.join(df_cat_encoded)\n",
    "df_preprocessed.head()"
   ]
  },
  {
   "cell_type": "markdown",
   "id": "23dcfed0",
   "metadata": {},
   "source": [
    "We imputed missing values, scaled numerical variables between 0 to 1 and one-hot-encoded categorical variables. After preprocessing, the data is partitioned and a model is fitted:"
   ]
  },
  {
   "cell_type": "code",
   "execution_count": 4,
   "id": "9c6a577f",
   "metadata": {},
   "outputs": [
    {
     "data": {
      "text/html": [
       "<style>#sk-5cbb141f-07d6-4324-953a-be5d88cc31b8 {color: black;background-color: white;}#sk-5cbb141f-07d6-4324-953a-be5d88cc31b8 pre{padding: 0;}#sk-5cbb141f-07d6-4324-953a-be5d88cc31b8 div.sk-toggleable {background-color: white;}#sk-5cbb141f-07d6-4324-953a-be5d88cc31b8 label.sk-toggleable__label {cursor: pointer;display: block;width: 100%;margin-bottom: 0;padding: 0.3em;box-sizing: border-box;text-align: center;}#sk-5cbb141f-07d6-4324-953a-be5d88cc31b8 label.sk-toggleable__label-arrow:before {content: \"▸\";float: left;margin-right: 0.25em;color: #696969;}#sk-5cbb141f-07d6-4324-953a-be5d88cc31b8 label.sk-toggleable__label-arrow:hover:before {color: black;}#sk-5cbb141f-07d6-4324-953a-be5d88cc31b8 div.sk-estimator:hover label.sk-toggleable__label-arrow:before {color: black;}#sk-5cbb141f-07d6-4324-953a-be5d88cc31b8 div.sk-toggleable__content {max-height: 0;max-width: 0;overflow: hidden;text-align: left;background-color: #f0f8ff;}#sk-5cbb141f-07d6-4324-953a-be5d88cc31b8 div.sk-toggleable__content pre {margin: 0.2em;color: black;border-radius: 0.25em;background-color: #f0f8ff;}#sk-5cbb141f-07d6-4324-953a-be5d88cc31b8 input.sk-toggleable__control:checked~div.sk-toggleable__content {max-height: 200px;max-width: 100%;overflow: auto;}#sk-5cbb141f-07d6-4324-953a-be5d88cc31b8 input.sk-toggleable__control:checked~label.sk-toggleable__label-arrow:before {content: \"▾\";}#sk-5cbb141f-07d6-4324-953a-be5d88cc31b8 div.sk-estimator input.sk-toggleable__control:checked~label.sk-toggleable__label {background-color: #d4ebff;}#sk-5cbb141f-07d6-4324-953a-be5d88cc31b8 div.sk-label input.sk-toggleable__control:checked~label.sk-toggleable__label {background-color: #d4ebff;}#sk-5cbb141f-07d6-4324-953a-be5d88cc31b8 input.sk-hidden--visually {border: 0;clip: rect(1px 1px 1px 1px);clip: rect(1px, 1px, 1px, 1px);height: 1px;margin: -1px;overflow: hidden;padding: 0;position: absolute;width: 1px;}#sk-5cbb141f-07d6-4324-953a-be5d88cc31b8 div.sk-estimator {font-family: monospace;background-color: #f0f8ff;border: 1px dotted black;border-radius: 0.25em;box-sizing: border-box;margin-bottom: 0.5em;}#sk-5cbb141f-07d6-4324-953a-be5d88cc31b8 div.sk-estimator:hover {background-color: #d4ebff;}#sk-5cbb141f-07d6-4324-953a-be5d88cc31b8 div.sk-parallel-item::after {content: \"\";width: 100%;border-bottom: 1px solid gray;flex-grow: 1;}#sk-5cbb141f-07d6-4324-953a-be5d88cc31b8 div.sk-label:hover label.sk-toggleable__label {background-color: #d4ebff;}#sk-5cbb141f-07d6-4324-953a-be5d88cc31b8 div.sk-serial::before {content: \"\";position: absolute;border-left: 1px solid gray;box-sizing: border-box;top: 2em;bottom: 0;left: 50%;}#sk-5cbb141f-07d6-4324-953a-be5d88cc31b8 div.sk-serial {display: flex;flex-direction: column;align-items: center;background-color: white;padding-right: 0.2em;padding-left: 0.2em;}#sk-5cbb141f-07d6-4324-953a-be5d88cc31b8 div.sk-item {z-index: 1;}#sk-5cbb141f-07d6-4324-953a-be5d88cc31b8 div.sk-parallel {display: flex;align-items: stretch;justify-content: center;background-color: white;}#sk-5cbb141f-07d6-4324-953a-be5d88cc31b8 div.sk-parallel::before {content: \"\";position: absolute;border-left: 1px solid gray;box-sizing: border-box;top: 2em;bottom: 0;left: 50%;}#sk-5cbb141f-07d6-4324-953a-be5d88cc31b8 div.sk-parallel-item {display: flex;flex-direction: column;position: relative;background-color: white;}#sk-5cbb141f-07d6-4324-953a-be5d88cc31b8 div.sk-parallel-item:first-child::after {align-self: flex-end;width: 50%;}#sk-5cbb141f-07d6-4324-953a-be5d88cc31b8 div.sk-parallel-item:last-child::after {align-self: flex-start;width: 50%;}#sk-5cbb141f-07d6-4324-953a-be5d88cc31b8 div.sk-parallel-item:only-child::after {width: 0;}#sk-5cbb141f-07d6-4324-953a-be5d88cc31b8 div.sk-dashed-wrapped {border: 1px dashed gray;margin: 0 0.4em 0.5em 0.4em;box-sizing: border-box;padding-bottom: 0.4em;background-color: white;position: relative;}#sk-5cbb141f-07d6-4324-953a-be5d88cc31b8 div.sk-label label {font-family: monospace;font-weight: bold;background-color: white;display: inline-block;line-height: 1.2em;}#sk-5cbb141f-07d6-4324-953a-be5d88cc31b8 div.sk-label-container {position: relative;z-index: 2;text-align: center;}#sk-5cbb141f-07d6-4324-953a-be5d88cc31b8 div.sk-container {/* jupyter's `normalize.less` sets `[hidden] { display: none; }` but bootstrap.min.css set `[hidden] { display: none !important; }` so we also need the `!important` here to be able to override the default hidden behavior on the sphinx rendered scikit-learn.org. See: https://github.com/scikit-learn/scikit-learn/issues/21755 */display: inline-block !important;position: relative;}#sk-5cbb141f-07d6-4324-953a-be5d88cc31b8 div.sk-text-repr-fallback {display: none;}</style><div id=\"sk-5cbb141f-07d6-4324-953a-be5d88cc31b8\" class=\"sk-top-container\"><div class=\"sk-text-repr-fallback\"><pre>LogisticRegression()</pre><b>Please rerun this cell to show the HTML repr or trust the notebook.</b></div><div class=\"sk-container\" hidden><div class=\"sk-item\"><div class=\"sk-estimator sk-toggleable\"><input class=\"sk-toggleable__control sk-hidden--visually\" id=\"d782e62e-435b-4016-a301-b2c87b20cac1\" type=\"checkbox\" checked><label for=\"d782e62e-435b-4016-a301-b2c87b20cac1\" class=\"sk-toggleable__label sk-toggleable__label-arrow\">LogisticRegression</label><div class=\"sk-toggleable__content\"><pre>LogisticRegression()</pre></div></div></div></div></div>"
      ],
      "text/plain": [
       "LogisticRegression()"
      ]
     },
     "execution_count": 4,
     "metadata": {},
     "output_type": "execute_result"
    }
   ],
   "source": [
    "# Partition data\n",
    "X_train, X_test, y_train, y_test = train_test_split(df_preprocessed, df[TARGET], \n",
    "                                                    test_size=.2, random_state=SEED, \n",
    "                                                    stratify=df[TARGET])\n",
    "\n",
    "# Train a model\n",
    "model = LogisticRegression()\n",
    "model.fit(X_train, y_train)"
   ]
  },
  {
   "cell_type": "markdown",
   "id": "09358793",
   "metadata": {},
   "source": [
    "Okay, let’s analyse what was wrong with this approach:\n",
    "\n",
    "  - Imputation: Numerical variables should be imputed with a mean from the training data instead of the entire data.\n",
    "  - Scaling: Min and max should be calculated from the training data.\n",
    "  - Encoding Categories should be inferred from the training data. In addition, even if the data is partitioned prior to preprocessing, one-hot-encoding with pd.get_dummies(X_train) and pd.get_dummies(X_test) can result in inconsistent training and test data (i.e. the columns may vary depending on the categories in both datasets). Therefore, pd.get_dummies() should not be used for one-hot-encoding when preparing data for a model.\n",
    "\n",
    "💡 Test data should be set aside prior to preprocessing. Any statistics such as mean, min and max used for preprocessing should be derived from the training data. Otherwise, there will be a data leakage problem.\n",
    "\n",
    "Now, let’s asses the model. We will use ROC-AUC to evaluate the model. We will create a function that calculates ROC-AUC since it will be useful for evaluating the subsequent approaches:"
   ]
  },
  {
   "cell_type": "code",
   "execution_count": 5,
   "id": "0d8a82f9",
   "metadata": {},
   "outputs": [
    {
     "name": "stdout",
     "output_type": "stream",
     "text": [
      "Train ROC-AUC: 0.8669\n",
      "Test ROC-AUC: 0.8329\n"
     ]
    }
   ],
   "source": [
    "def calculate_roc_auc(model_pipe, X, y):\n",
    "    \"\"\"Calculate roc auc score. \n",
    "    \n",
    "    Parameters:\n",
    "    ===========\n",
    "    model_pipe: sklearn model or pipeline\n",
    "    X: features\n",
    "    y: true target\n",
    "    \"\"\"\n",
    "    y_proba = model_pipe.predict_proba(X)[:,1]\n",
    "    return roc_auc_score(y, y_proba)\n",
    "  \n",
    "print(f\"Train ROC-AUC: {calculate_roc_auc(model, X_train, y_train):.4f}\")\n",
    "print(f\"Test ROC-AUC: {calculate_roc_auc(model, X_test, y_test):.4f}\")"
   ]
  },
  {
   "cell_type": "markdown",
   "id": "d19b2fc1",
   "metadata": {},
   "source": [
    "### Correct approach but …\n",
    "We will partition the data first and prepreprocess data using Scikit-learn’s transformers to prevent data leakage by preprocessing correctly:"
   ]
  },
  {
   "cell_type": "code",
   "execution_count": 6,
   "id": "e1ab6056",
   "metadata": {},
   "outputs": [
    {
     "data": {
      "text/html": [
       "<div>\n",
       "<style scoped>\n",
       "    .dataframe tbody tr th:only-of-type {\n",
       "        vertical-align: middle;\n",
       "    }\n",
       "\n",
       "    .dataframe tbody tr th {\n",
       "        vertical-align: top;\n",
       "    }\n",
       "\n",
       "    .dataframe thead th {\n",
       "        text-align: right;\n",
       "    }\n",
       "</style>\n",
       "<table border=\"1\" class=\"dataframe\">\n",
       "  <thead>\n",
       "    <tr style=\"text-align: right;\">\n",
       "      <th></th>\n",
       "      <th>pclass</th>\n",
       "      <th>age</th>\n",
       "      <th>sibsp</th>\n",
       "      <th>parch</th>\n",
       "      <th>fare</th>\n",
       "      <th>deck_B</th>\n",
       "      <th>deck_C</th>\n",
       "      <th>deck_D</th>\n",
       "      <th>deck_E</th>\n",
       "      <th>deck_F</th>\n",
       "      <th>deck_G</th>\n",
       "      <th>deck_missing</th>\n",
       "      <th>embark_town_Queenstown</th>\n",
       "      <th>embark_town_Southampton</th>\n",
       "      <th>embark_town_missing</th>\n",
       "      <th>sex_male</th>\n",
       "    </tr>\n",
       "  </thead>\n",
       "  <tbody>\n",
       "    <tr>\n",
       "      <th>692</th>\n",
       "      <td>1.0</td>\n",
       "      <td>0.3693</td>\n",
       "      <td>0.000</td>\n",
       "      <td>0.0000</td>\n",
       "      <td>0.1103</td>\n",
       "      <td>0.0</td>\n",
       "      <td>0.0</td>\n",
       "      <td>0.0</td>\n",
       "      <td>0.0</td>\n",
       "      <td>0.0</td>\n",
       "      <td>0.0</td>\n",
       "      <td>1.0</td>\n",
       "      <td>0.0</td>\n",
       "      <td>1.0</td>\n",
       "      <td>0.0</td>\n",
       "      <td>1.0</td>\n",
       "    </tr>\n",
       "    <tr>\n",
       "      <th>481</th>\n",
       "      <td>0.5</td>\n",
       "      <td>0.3693</td>\n",
       "      <td>0.000</td>\n",
       "      <td>0.0000</td>\n",
       "      <td>0.0000</td>\n",
       "      <td>0.0</td>\n",
       "      <td>0.0</td>\n",
       "      <td>0.0</td>\n",
       "      <td>0.0</td>\n",
       "      <td>0.0</td>\n",
       "      <td>0.0</td>\n",
       "      <td>1.0</td>\n",
       "      <td>0.0</td>\n",
       "      <td>1.0</td>\n",
       "      <td>0.0</td>\n",
       "      <td>1.0</td>\n",
       "    </tr>\n",
       "    <tr>\n",
       "      <th>527</th>\n",
       "      <td>0.0</td>\n",
       "      <td>0.3693</td>\n",
       "      <td>0.000</td>\n",
       "      <td>0.0000</td>\n",
       "      <td>0.4329</td>\n",
       "      <td>0.0</td>\n",
       "      <td>1.0</td>\n",
       "      <td>0.0</td>\n",
       "      <td>0.0</td>\n",
       "      <td>0.0</td>\n",
       "      <td>0.0</td>\n",
       "      <td>0.0</td>\n",
       "      <td>0.0</td>\n",
       "      <td>1.0</td>\n",
       "      <td>0.0</td>\n",
       "      <td>1.0</td>\n",
       "    </tr>\n",
       "    <tr>\n",
       "      <th>855</th>\n",
       "      <td>1.0</td>\n",
       "      <td>0.2209</td>\n",
       "      <td>0.000</td>\n",
       "      <td>0.1667</td>\n",
       "      <td>0.0182</td>\n",
       "      <td>0.0</td>\n",
       "      <td>0.0</td>\n",
       "      <td>0.0</td>\n",
       "      <td>0.0</td>\n",
       "      <td>0.0</td>\n",
       "      <td>0.0</td>\n",
       "      <td>1.0</td>\n",
       "      <td>0.0</td>\n",
       "      <td>1.0</td>\n",
       "      <td>0.0</td>\n",
       "      <td>0.0</td>\n",
       "    </tr>\n",
       "    <tr>\n",
       "      <th>801</th>\n",
       "      <td>0.5</td>\n",
       "      <td>0.3843</td>\n",
       "      <td>0.125</td>\n",
       "      <td>0.1667</td>\n",
       "      <td>0.0512</td>\n",
       "      <td>0.0</td>\n",
       "      <td>0.0</td>\n",
       "      <td>0.0</td>\n",
       "      <td>0.0</td>\n",
       "      <td>0.0</td>\n",
       "      <td>0.0</td>\n",
       "      <td>1.0</td>\n",
       "      <td>0.0</td>\n",
       "      <td>1.0</td>\n",
       "      <td>0.0</td>\n",
       "      <td>0.0</td>\n",
       "    </tr>\n",
       "  </tbody>\n",
       "</table>\n",
       "</div>"
      ],
      "text/plain": [
       "     pclass     age  sibsp   parch    fare  deck_B  deck_C  deck_D  deck_E  \\\n",
       "692     1.0  0.3693  0.000  0.0000  0.1103     0.0     0.0     0.0     0.0   \n",
       "481     0.5  0.3693  0.000  0.0000  0.0000     0.0     0.0     0.0     0.0   \n",
       "527     0.0  0.3693  0.000  0.0000  0.4329     0.0     1.0     0.0     0.0   \n",
       "855     1.0  0.2209  0.000  0.1667  0.0182     0.0     0.0     0.0     0.0   \n",
       "801     0.5  0.3843  0.125  0.1667  0.0512     0.0     0.0     0.0     0.0   \n",
       "\n",
       "     deck_F  deck_G  deck_missing  embark_town_Queenstown  \\\n",
       "692     0.0     0.0           1.0                     0.0   \n",
       "481     0.0     0.0           1.0                     0.0   \n",
       "527     0.0     0.0           0.0                     0.0   \n",
       "855     0.0     0.0           1.0                     0.0   \n",
       "801     0.0     0.0           1.0                     0.0   \n",
       "\n",
       "     embark_town_Southampton  embark_town_missing  sex_male  \n",
       "692                      1.0                  0.0       1.0  \n",
       "481                      1.0                  0.0       1.0  \n",
       "527                      1.0                  0.0       1.0  \n",
       "855                      1.0                  0.0       0.0  \n",
       "801                      1.0                  0.0       0.0  "
      ]
     },
     "execution_count": 6,
     "metadata": {},
     "output_type": "execute_result"
    }
   ],
   "source": [
    "X_train, X_test, y_train, y_test = train_test_split(df.drop(columns=TARGET), df[TARGET], \n",
    "                                                    test_size=.2, random_state=SEED, \n",
    "                                                    stratify=df[TARGET])\n",
    "num_imputer = SimpleImputer(strategy='mean')\n",
    "train_num_imputed = num_imputer.fit_transform(X_train[NUMERICAL])\n",
    "\n",
    "scaler = MinMaxScaler()\n",
    "train_num_scaled = scaler.fit_transform(train_num_imputed)\n",
    "\n",
    "cat_imputer = SimpleImputer(strategy='constant', fill_value='missing')\n",
    "train_cat_imputed = cat_imputer.fit_transform(X_train[CATEGORICAL])\n",
    "\n",
    "encoder = OneHotEncoder(drop='first', handle_unknown='ignore', sparse=False)\n",
    "train_cat_encoded = encoder.fit_transform(train_cat_imputed)\n",
    "\n",
    "train_preprocessed = np.concatenate((train_num_scaled, train_cat_encoded), axis=1)\n",
    "\n",
    "columns = np.append(NUMERICAL, encoder.get_feature_names_out(CATEGORICAL))\n",
    "pd.DataFrame(train_preprocessed, columns=columns, index=X_train.index).head()"
   ]
  },
  {
   "cell_type": "markdown",
   "id": "ec44edd5",
   "metadata": {},
   "source": [
    "Lovely, we can fit the model now:"
   ]
  },
  {
   "cell_type": "code",
   "execution_count": 7,
   "id": "502ddaa6",
   "metadata": {},
   "outputs": [
    {
     "data": {
      "text/html": [
       "<style>#sk-399d3fb6-6772-4583-8b74-62adafc1a7b9 {color: black;background-color: white;}#sk-399d3fb6-6772-4583-8b74-62adafc1a7b9 pre{padding: 0;}#sk-399d3fb6-6772-4583-8b74-62adafc1a7b9 div.sk-toggleable {background-color: white;}#sk-399d3fb6-6772-4583-8b74-62adafc1a7b9 label.sk-toggleable__label {cursor: pointer;display: block;width: 100%;margin-bottom: 0;padding: 0.3em;box-sizing: border-box;text-align: center;}#sk-399d3fb6-6772-4583-8b74-62adafc1a7b9 label.sk-toggleable__label-arrow:before {content: \"▸\";float: left;margin-right: 0.25em;color: #696969;}#sk-399d3fb6-6772-4583-8b74-62adafc1a7b9 label.sk-toggleable__label-arrow:hover:before {color: black;}#sk-399d3fb6-6772-4583-8b74-62adafc1a7b9 div.sk-estimator:hover label.sk-toggleable__label-arrow:before {color: black;}#sk-399d3fb6-6772-4583-8b74-62adafc1a7b9 div.sk-toggleable__content {max-height: 0;max-width: 0;overflow: hidden;text-align: left;background-color: #f0f8ff;}#sk-399d3fb6-6772-4583-8b74-62adafc1a7b9 div.sk-toggleable__content pre {margin: 0.2em;color: black;border-radius: 0.25em;background-color: #f0f8ff;}#sk-399d3fb6-6772-4583-8b74-62adafc1a7b9 input.sk-toggleable__control:checked~div.sk-toggleable__content {max-height: 200px;max-width: 100%;overflow: auto;}#sk-399d3fb6-6772-4583-8b74-62adafc1a7b9 input.sk-toggleable__control:checked~label.sk-toggleable__label-arrow:before {content: \"▾\";}#sk-399d3fb6-6772-4583-8b74-62adafc1a7b9 div.sk-estimator input.sk-toggleable__control:checked~label.sk-toggleable__label {background-color: #d4ebff;}#sk-399d3fb6-6772-4583-8b74-62adafc1a7b9 div.sk-label input.sk-toggleable__control:checked~label.sk-toggleable__label {background-color: #d4ebff;}#sk-399d3fb6-6772-4583-8b74-62adafc1a7b9 input.sk-hidden--visually {border: 0;clip: rect(1px 1px 1px 1px);clip: rect(1px, 1px, 1px, 1px);height: 1px;margin: -1px;overflow: hidden;padding: 0;position: absolute;width: 1px;}#sk-399d3fb6-6772-4583-8b74-62adafc1a7b9 div.sk-estimator {font-family: monospace;background-color: #f0f8ff;border: 1px dotted black;border-radius: 0.25em;box-sizing: border-box;margin-bottom: 0.5em;}#sk-399d3fb6-6772-4583-8b74-62adafc1a7b9 div.sk-estimator:hover {background-color: #d4ebff;}#sk-399d3fb6-6772-4583-8b74-62adafc1a7b9 div.sk-parallel-item::after {content: \"\";width: 100%;border-bottom: 1px solid gray;flex-grow: 1;}#sk-399d3fb6-6772-4583-8b74-62adafc1a7b9 div.sk-label:hover label.sk-toggleable__label {background-color: #d4ebff;}#sk-399d3fb6-6772-4583-8b74-62adafc1a7b9 div.sk-serial::before {content: \"\";position: absolute;border-left: 1px solid gray;box-sizing: border-box;top: 2em;bottom: 0;left: 50%;}#sk-399d3fb6-6772-4583-8b74-62adafc1a7b9 div.sk-serial {display: flex;flex-direction: column;align-items: center;background-color: white;padding-right: 0.2em;padding-left: 0.2em;}#sk-399d3fb6-6772-4583-8b74-62adafc1a7b9 div.sk-item {z-index: 1;}#sk-399d3fb6-6772-4583-8b74-62adafc1a7b9 div.sk-parallel {display: flex;align-items: stretch;justify-content: center;background-color: white;}#sk-399d3fb6-6772-4583-8b74-62adafc1a7b9 div.sk-parallel::before {content: \"\";position: absolute;border-left: 1px solid gray;box-sizing: border-box;top: 2em;bottom: 0;left: 50%;}#sk-399d3fb6-6772-4583-8b74-62adafc1a7b9 div.sk-parallel-item {display: flex;flex-direction: column;position: relative;background-color: white;}#sk-399d3fb6-6772-4583-8b74-62adafc1a7b9 div.sk-parallel-item:first-child::after {align-self: flex-end;width: 50%;}#sk-399d3fb6-6772-4583-8b74-62adafc1a7b9 div.sk-parallel-item:last-child::after {align-self: flex-start;width: 50%;}#sk-399d3fb6-6772-4583-8b74-62adafc1a7b9 div.sk-parallel-item:only-child::after {width: 0;}#sk-399d3fb6-6772-4583-8b74-62adafc1a7b9 div.sk-dashed-wrapped {border: 1px dashed gray;margin: 0 0.4em 0.5em 0.4em;box-sizing: border-box;padding-bottom: 0.4em;background-color: white;position: relative;}#sk-399d3fb6-6772-4583-8b74-62adafc1a7b9 div.sk-label label {font-family: monospace;font-weight: bold;background-color: white;display: inline-block;line-height: 1.2em;}#sk-399d3fb6-6772-4583-8b74-62adafc1a7b9 div.sk-label-container {position: relative;z-index: 2;text-align: center;}#sk-399d3fb6-6772-4583-8b74-62adafc1a7b9 div.sk-container {/* jupyter's `normalize.less` sets `[hidden] { display: none; }` but bootstrap.min.css set `[hidden] { display: none !important; }` so we also need the `!important` here to be able to override the default hidden behavior on the sphinx rendered scikit-learn.org. See: https://github.com/scikit-learn/scikit-learn/issues/21755 */display: inline-block !important;position: relative;}#sk-399d3fb6-6772-4583-8b74-62adafc1a7b9 div.sk-text-repr-fallback {display: none;}</style><div id=\"sk-399d3fb6-6772-4583-8b74-62adafc1a7b9\" class=\"sk-top-container\"><div class=\"sk-text-repr-fallback\"><pre>LogisticRegression()</pre><b>Please rerun this cell to show the HTML repr or trust the notebook.</b></div><div class=\"sk-container\" hidden><div class=\"sk-item\"><div class=\"sk-estimator sk-toggleable\"><input class=\"sk-toggleable__control sk-hidden--visually\" id=\"6f3b9dfc-8e64-4615-a7be-f65f517fd01e\" type=\"checkbox\" checked><label for=\"6f3b9dfc-8e64-4615-a7be-f65f517fd01e\" class=\"sk-toggleable__label sk-toggleable__label-arrow\">LogisticRegression</label><div class=\"sk-toggleable__content\"><pre>LogisticRegression()</pre></div></div></div></div></div>"
      ],
      "text/plain": [
       "LogisticRegression()"
      ]
     },
     "execution_count": 7,
     "metadata": {},
     "output_type": "execute_result"
    }
   ],
   "source": [
    "model = LogisticRegression()\n",
    "model.fit(train_preprocessed, y_train)"
   ]
  },
  {
   "cell_type": "markdown",
   "id": "111611cf",
   "metadata": {},
   "source": [
    "We need to preprocess the test dataset in the same way before evaluating:"
   ]
  },
  {
   "cell_type": "code",
   "execution_count": 8,
   "id": "bb9a1521",
   "metadata": {},
   "outputs": [
    {
     "name": "stdout",
     "output_type": "stream",
     "text": [
      "Train ROC-AUC: 0.8670\n",
      "Test ROC-AUC: 0.8332\n"
     ]
    }
   ],
   "source": [
    "test_num_imputed = num_imputer.transform(X_test[NUMERICAL])\n",
    "test_num_scaled = scaler.transform(test_num_imputed)\n",
    "test_cat_imputed = cat_imputer.transform(X_test[CATEGORICAL])\n",
    "test_cat_encoded = encoder.transform(test_cat_imputed)\n",
    "test_preprocessed = np.concatenate((test_num_scaled, test_cat_encoded), axis=1)\n",
    "\n",
    "print(f\"Train ROC-AUC: {calculate_roc_auc(model, train_preprocessed, y_train):.4f}\")\n",
    "print(f\"Test ROC-AUC: {calculate_roc_auc(model, test_preprocessed, y_test):.4f}\")"
   ]
  },
  {
   "cell_type": "markdown",
   "id": "e4eb514e",
   "metadata": {},
   "source": [
    "Awesome, this time the approach was correct. But writing good code doesn’t stop at being correct. For each preprocessing step, we stored interim outputs for both training and test datasets. When the number of preprocessing steps increase, this will soon become very tedious to keep up and therefore prone to error like missing a step in preprocessing the test data. This code can be made more organised, streamlined and readable. That’s what we will do in the next sections."
   ]
  },
  {
   "cell_type": "markdown",
   "id": "95b00d88",
   "metadata": {},
   "source": [
    "### Elegant Approach #1\n",
    "Let’s streamline the previous code using Scikit-learn’s Pipeline and ColumnTransformer. If you aren’t familiar with them, this post explains them concisely."
   ]
  },
  {
   "cell_type": "code",
   "execution_count": 9,
   "id": "a4a7fdd7",
   "metadata": {},
   "outputs": [
    {
     "data": {
      "text/html": [
       "<style>#sk-5d4d864a-a603-4419-b3de-058292c62684 {color: black;background-color: white;}#sk-5d4d864a-a603-4419-b3de-058292c62684 pre{padding: 0;}#sk-5d4d864a-a603-4419-b3de-058292c62684 div.sk-toggleable {background-color: white;}#sk-5d4d864a-a603-4419-b3de-058292c62684 label.sk-toggleable__label {cursor: pointer;display: block;width: 100%;margin-bottom: 0;padding: 0.3em;box-sizing: border-box;text-align: center;}#sk-5d4d864a-a603-4419-b3de-058292c62684 label.sk-toggleable__label-arrow:before {content: \"▸\";float: left;margin-right: 0.25em;color: #696969;}#sk-5d4d864a-a603-4419-b3de-058292c62684 label.sk-toggleable__label-arrow:hover:before {color: black;}#sk-5d4d864a-a603-4419-b3de-058292c62684 div.sk-estimator:hover label.sk-toggleable__label-arrow:before {color: black;}#sk-5d4d864a-a603-4419-b3de-058292c62684 div.sk-toggleable__content {max-height: 0;max-width: 0;overflow: hidden;text-align: left;background-color: #f0f8ff;}#sk-5d4d864a-a603-4419-b3de-058292c62684 div.sk-toggleable__content pre {margin: 0.2em;color: black;border-radius: 0.25em;background-color: #f0f8ff;}#sk-5d4d864a-a603-4419-b3de-058292c62684 input.sk-toggleable__control:checked~div.sk-toggleable__content {max-height: 200px;max-width: 100%;overflow: auto;}#sk-5d4d864a-a603-4419-b3de-058292c62684 input.sk-toggleable__control:checked~label.sk-toggleable__label-arrow:before {content: \"▾\";}#sk-5d4d864a-a603-4419-b3de-058292c62684 div.sk-estimator input.sk-toggleable__control:checked~label.sk-toggleable__label {background-color: #d4ebff;}#sk-5d4d864a-a603-4419-b3de-058292c62684 div.sk-label input.sk-toggleable__control:checked~label.sk-toggleable__label {background-color: #d4ebff;}#sk-5d4d864a-a603-4419-b3de-058292c62684 input.sk-hidden--visually {border: 0;clip: rect(1px 1px 1px 1px);clip: rect(1px, 1px, 1px, 1px);height: 1px;margin: -1px;overflow: hidden;padding: 0;position: absolute;width: 1px;}#sk-5d4d864a-a603-4419-b3de-058292c62684 div.sk-estimator {font-family: monospace;background-color: #f0f8ff;border: 1px dotted black;border-radius: 0.25em;box-sizing: border-box;margin-bottom: 0.5em;}#sk-5d4d864a-a603-4419-b3de-058292c62684 div.sk-estimator:hover {background-color: #d4ebff;}#sk-5d4d864a-a603-4419-b3de-058292c62684 div.sk-parallel-item::after {content: \"\";width: 100%;border-bottom: 1px solid gray;flex-grow: 1;}#sk-5d4d864a-a603-4419-b3de-058292c62684 div.sk-label:hover label.sk-toggleable__label {background-color: #d4ebff;}#sk-5d4d864a-a603-4419-b3de-058292c62684 div.sk-serial::before {content: \"\";position: absolute;border-left: 1px solid gray;box-sizing: border-box;top: 2em;bottom: 0;left: 50%;}#sk-5d4d864a-a603-4419-b3de-058292c62684 div.sk-serial {display: flex;flex-direction: column;align-items: center;background-color: white;padding-right: 0.2em;padding-left: 0.2em;}#sk-5d4d864a-a603-4419-b3de-058292c62684 div.sk-item {z-index: 1;}#sk-5d4d864a-a603-4419-b3de-058292c62684 div.sk-parallel {display: flex;align-items: stretch;justify-content: center;background-color: white;}#sk-5d4d864a-a603-4419-b3de-058292c62684 div.sk-parallel::before {content: \"\";position: absolute;border-left: 1px solid gray;box-sizing: border-box;top: 2em;bottom: 0;left: 50%;}#sk-5d4d864a-a603-4419-b3de-058292c62684 div.sk-parallel-item {display: flex;flex-direction: column;position: relative;background-color: white;}#sk-5d4d864a-a603-4419-b3de-058292c62684 div.sk-parallel-item:first-child::after {align-self: flex-end;width: 50%;}#sk-5d4d864a-a603-4419-b3de-058292c62684 div.sk-parallel-item:last-child::after {align-self: flex-start;width: 50%;}#sk-5d4d864a-a603-4419-b3de-058292c62684 div.sk-parallel-item:only-child::after {width: 0;}#sk-5d4d864a-a603-4419-b3de-058292c62684 div.sk-dashed-wrapped {border: 1px dashed gray;margin: 0 0.4em 0.5em 0.4em;box-sizing: border-box;padding-bottom: 0.4em;background-color: white;position: relative;}#sk-5d4d864a-a603-4419-b3de-058292c62684 div.sk-label label {font-family: monospace;font-weight: bold;background-color: white;display: inline-block;line-height: 1.2em;}#sk-5d4d864a-a603-4419-b3de-058292c62684 div.sk-label-container {position: relative;z-index: 2;text-align: center;}#sk-5d4d864a-a603-4419-b3de-058292c62684 div.sk-container {/* jupyter's `normalize.less` sets `[hidden] { display: none; }` but bootstrap.min.css set `[hidden] { display: none !important; }` so we also need the `!important` here to be able to override the default hidden behavior on the sphinx rendered scikit-learn.org. See: https://github.com/scikit-learn/scikit-learn/issues/21755 */display: inline-block !important;position: relative;}#sk-5d4d864a-a603-4419-b3de-058292c62684 div.sk-text-repr-fallback {display: none;}</style><div id=\"sk-5d4d864a-a603-4419-b3de-058292c62684\" class=\"sk-top-container\"><div class=\"sk-text-repr-fallback\"><pre>Pipeline(steps=[(&#x27;preprocessors&#x27;,\n",
       "                 ColumnTransformer(transformers=[(&#x27;num&#x27;,\n",
       "                                                  Pipeline(steps=[(&#x27;imputer&#x27;,\n",
       "                                                                   SimpleImputer()),\n",
       "                                                                  (&#x27;scaler&#x27;,\n",
       "                                                                   MinMaxScaler())]),\n",
       "                                                  Index([&#x27;pclass&#x27;, &#x27;age&#x27;, &#x27;sibsp&#x27;, &#x27;parch&#x27;, &#x27;fare&#x27;], dtype=&#x27;object&#x27;)),\n",
       "                                                 (&#x27;cat&#x27;,\n",
       "                                                  Pipeline(steps=[(&#x27;imputer&#x27;,\n",
       "                                                                   SimpleImputer(fill_value=&#x27;missing&#x27;,\n",
       "                                                                                 strategy=&#x27;constant&#x27;)),\n",
       "                                                                  (&#x27;encoder&#x27;,\n",
       "                                                                   OneHotEncoder(drop=&#x27;first&#x27;,\n",
       "                                                                                 handle_unknown=&#x27;ignore&#x27;,\n",
       "                                                                                 sparse=False))]),\n",
       "                                                  Index([&#x27;deck&#x27;, &#x27;embark_town&#x27;, &#x27;sex&#x27;], dtype=&#x27;object&#x27;))])),\n",
       "                (&#x27;model&#x27;, LogisticRegression())])</pre><b>Please rerun this cell to show the HTML repr or trust the notebook.</b></div><div class=\"sk-container\" hidden><div class=\"sk-item sk-dashed-wrapped\"><div class=\"sk-label-container\"><div class=\"sk-label sk-toggleable\"><input class=\"sk-toggleable__control sk-hidden--visually\" id=\"9ebcadb5-8b74-4335-8930-2f0e87f26052\" type=\"checkbox\" ><label for=\"9ebcadb5-8b74-4335-8930-2f0e87f26052\" class=\"sk-toggleable__label sk-toggleable__label-arrow\">Pipeline</label><div class=\"sk-toggleable__content\"><pre>Pipeline(steps=[(&#x27;preprocessors&#x27;,\n",
       "                 ColumnTransformer(transformers=[(&#x27;num&#x27;,\n",
       "                                                  Pipeline(steps=[(&#x27;imputer&#x27;,\n",
       "                                                                   SimpleImputer()),\n",
       "                                                                  (&#x27;scaler&#x27;,\n",
       "                                                                   MinMaxScaler())]),\n",
       "                                                  Index([&#x27;pclass&#x27;, &#x27;age&#x27;, &#x27;sibsp&#x27;, &#x27;parch&#x27;, &#x27;fare&#x27;], dtype=&#x27;object&#x27;)),\n",
       "                                                 (&#x27;cat&#x27;,\n",
       "                                                  Pipeline(steps=[(&#x27;imputer&#x27;,\n",
       "                                                                   SimpleImputer(fill_value=&#x27;missing&#x27;,\n",
       "                                                                                 strategy=&#x27;constant&#x27;)),\n",
       "                                                                  (&#x27;encoder&#x27;,\n",
       "                                                                   OneHotEncoder(drop=&#x27;first&#x27;,\n",
       "                                                                                 handle_unknown=&#x27;ignore&#x27;,\n",
       "                                                                                 sparse=False))]),\n",
       "                                                  Index([&#x27;deck&#x27;, &#x27;embark_town&#x27;, &#x27;sex&#x27;], dtype=&#x27;object&#x27;))])),\n",
       "                (&#x27;model&#x27;, LogisticRegression())])</pre></div></div></div><div class=\"sk-serial\"><div class=\"sk-item sk-dashed-wrapped\"><div class=\"sk-label-container\"><div class=\"sk-label sk-toggleable\"><input class=\"sk-toggleable__control sk-hidden--visually\" id=\"f4151918-2603-487f-8196-ec2cae495bb1\" type=\"checkbox\" ><label for=\"f4151918-2603-487f-8196-ec2cae495bb1\" class=\"sk-toggleable__label sk-toggleable__label-arrow\">preprocessors: ColumnTransformer</label><div class=\"sk-toggleable__content\"><pre>ColumnTransformer(transformers=[(&#x27;num&#x27;,\n",
       "                                 Pipeline(steps=[(&#x27;imputer&#x27;, SimpleImputer()),\n",
       "                                                 (&#x27;scaler&#x27;, MinMaxScaler())]),\n",
       "                                 Index([&#x27;pclass&#x27;, &#x27;age&#x27;, &#x27;sibsp&#x27;, &#x27;parch&#x27;, &#x27;fare&#x27;], dtype=&#x27;object&#x27;)),\n",
       "                                (&#x27;cat&#x27;,\n",
       "                                 Pipeline(steps=[(&#x27;imputer&#x27;,\n",
       "                                                  SimpleImputer(fill_value=&#x27;missing&#x27;,\n",
       "                                                                strategy=&#x27;constant&#x27;)),\n",
       "                                                 (&#x27;encoder&#x27;,\n",
       "                                                  OneHotEncoder(drop=&#x27;first&#x27;,\n",
       "                                                                handle_unknown=&#x27;ignore&#x27;,\n",
       "                                                                sparse=False))]),\n",
       "                                 Index([&#x27;deck&#x27;, &#x27;embark_town&#x27;, &#x27;sex&#x27;], dtype=&#x27;object&#x27;))])</pre></div></div></div><div class=\"sk-parallel\"><div class=\"sk-parallel-item\"><div class=\"sk-item\"><div class=\"sk-label-container\"><div class=\"sk-label sk-toggleable\"><input class=\"sk-toggleable__control sk-hidden--visually\" id=\"e398e657-013c-458e-9d67-0014278dfa14\" type=\"checkbox\" ><label for=\"e398e657-013c-458e-9d67-0014278dfa14\" class=\"sk-toggleable__label sk-toggleable__label-arrow\">num</label><div class=\"sk-toggleable__content\"><pre>Index([&#x27;pclass&#x27;, &#x27;age&#x27;, &#x27;sibsp&#x27;, &#x27;parch&#x27;, &#x27;fare&#x27;], dtype=&#x27;object&#x27;)</pre></div></div></div><div class=\"sk-serial\"><div class=\"sk-item\"><div class=\"sk-serial\"><div class=\"sk-item\"><div class=\"sk-estimator sk-toggleable\"><input class=\"sk-toggleable__control sk-hidden--visually\" id=\"b0363275-f589-4424-921c-ab43fcb3eb9b\" type=\"checkbox\" ><label for=\"b0363275-f589-4424-921c-ab43fcb3eb9b\" class=\"sk-toggleable__label sk-toggleable__label-arrow\">SimpleImputer</label><div class=\"sk-toggleable__content\"><pre>SimpleImputer()</pre></div></div></div><div class=\"sk-item\"><div class=\"sk-estimator sk-toggleable\"><input class=\"sk-toggleable__control sk-hidden--visually\" id=\"79184404-b99f-4702-9c64-77195531a570\" type=\"checkbox\" ><label for=\"79184404-b99f-4702-9c64-77195531a570\" class=\"sk-toggleable__label sk-toggleable__label-arrow\">MinMaxScaler</label><div class=\"sk-toggleable__content\"><pre>MinMaxScaler()</pre></div></div></div></div></div></div></div></div><div class=\"sk-parallel-item\"><div class=\"sk-item\"><div class=\"sk-label-container\"><div class=\"sk-label sk-toggleable\"><input class=\"sk-toggleable__control sk-hidden--visually\" id=\"38e2ae82-8876-42e7-b96f-1c3e76b58dc0\" type=\"checkbox\" ><label for=\"38e2ae82-8876-42e7-b96f-1c3e76b58dc0\" class=\"sk-toggleable__label sk-toggleable__label-arrow\">cat</label><div class=\"sk-toggleable__content\"><pre>Index([&#x27;deck&#x27;, &#x27;embark_town&#x27;, &#x27;sex&#x27;], dtype=&#x27;object&#x27;)</pre></div></div></div><div class=\"sk-serial\"><div class=\"sk-item\"><div class=\"sk-serial\"><div class=\"sk-item\"><div class=\"sk-estimator sk-toggleable\"><input class=\"sk-toggleable__control sk-hidden--visually\" id=\"60d78c41-1031-4adc-94fa-d944c7180a31\" type=\"checkbox\" ><label for=\"60d78c41-1031-4adc-94fa-d944c7180a31\" class=\"sk-toggleable__label sk-toggleable__label-arrow\">SimpleImputer</label><div class=\"sk-toggleable__content\"><pre>SimpleImputer(fill_value=&#x27;missing&#x27;, strategy=&#x27;constant&#x27;)</pre></div></div></div><div class=\"sk-item\"><div class=\"sk-estimator sk-toggleable\"><input class=\"sk-toggleable__control sk-hidden--visually\" id=\"e6a32e97-7fe9-4c92-9ee0-78747a55c449\" type=\"checkbox\" ><label for=\"e6a32e97-7fe9-4c92-9ee0-78747a55c449\" class=\"sk-toggleable__label sk-toggleable__label-arrow\">OneHotEncoder</label><div class=\"sk-toggleable__content\"><pre>OneHotEncoder(drop=&#x27;first&#x27;, handle_unknown=&#x27;ignore&#x27;, sparse=False)</pre></div></div></div></div></div></div></div></div></div></div><div class=\"sk-item\"><div class=\"sk-estimator sk-toggleable\"><input class=\"sk-toggleable__control sk-hidden--visually\" id=\"14b44538-c763-46d1-940b-03e315fda213\" type=\"checkbox\" ><label for=\"14b44538-c763-46d1-940b-03e315fda213\" class=\"sk-toggleable__label sk-toggleable__label-arrow\">LogisticRegression</label><div class=\"sk-toggleable__content\"><pre>LogisticRegression()</pre></div></div></div></div></div></div></div>"
      ],
      "text/plain": [
       "Pipeline(steps=[('preprocessors',\n",
       "                 ColumnTransformer(transformers=[('num',\n",
       "                                                  Pipeline(steps=[('imputer',\n",
       "                                                                   SimpleImputer()),\n",
       "                                                                  ('scaler',\n",
       "                                                                   MinMaxScaler())]),\n",
       "                                                  Index(['pclass', 'age', 'sibsp', 'parch', 'fare'], dtype='object')),\n",
       "                                                 ('cat',\n",
       "                                                  Pipeline(steps=[('imputer',\n",
       "                                                                   SimpleImputer(fill_value='missing',\n",
       "                                                                                 strategy='constant')),\n",
       "                                                                  ('encoder',\n",
       "                                                                   OneHotEncoder(drop='first',\n",
       "                                                                                 handle_unknown='ignore',\n",
       "                                                                                 sparse=False))]),\n",
       "                                                  Index(['deck', 'embark_town', 'sex'], dtype='object'))])),\n",
       "                ('model', LogisticRegression())])"
      ]
     },
     "execution_count": 9,
     "metadata": {},
     "output_type": "execute_result"
    }
   ],
   "source": [
    "numerical_pipe = Pipeline([\n",
    "    ('imputer', SimpleImputer(strategy='mean')),\n",
    "    ('scaler', MinMaxScaler())\n",
    "])\n",
    "\n",
    "categorical_pipe = Pipeline([\n",
    "    ('imputer', SimpleImputer(strategy='constant', fill_value='missing')),\n",
    "    ('encoder', OneHotEncoder(drop='first', handle_unknown='ignore', sparse=False))\n",
    "])\n",
    "\n",
    "preprocessors = ColumnTransformer(transformers=[\n",
    "    ('num', numerical_pipe, NUMERICAL),\n",
    "    ('cat', categorical_pipe, CATEGORICAL)\n",
    "])\n",
    "\n",
    "pipe = Pipeline([\n",
    "    ('preprocessors', preprocessors),\n",
    "    ('model', LogisticRegression())\n",
    "])\n",
    "\n",
    "pipe.fit(X_train, y_train)"
   ]
  },
  {
   "cell_type": "markdown",
   "id": "7390934a",
   "metadata": {},
   "source": [
    "The pipeline:\n",
    "\n",
    "  - Splits input data into numerical and categorical groups\n",
    "  - Preprocesses both groups in parallel\n",
    "  - Concatenates the preprocessed data from both groups\n",
    "  - Passes the preprocessed data into the model\n",
    "\n",
    "When raw data is passed to the trained pipeline, it will preprocess and make a prediction. This means we no longer have to store interim results for both training and test dataset. Scoring unseen data is as simple as pipe.predict(). That’s very elegant, isn’t it? Now, let’s evaluate the performance of the model:"
   ]
  },
  {
   "cell_type": "code",
   "execution_count": 10,
   "id": "c8217d7a",
   "metadata": {},
   "outputs": [
    {
     "name": "stdout",
     "output_type": "stream",
     "text": [
      "Train ROC-AUC: 0.8670\n",
      "Test ROC-AUC: 0.8332\n"
     ]
    }
   ],
   "source": [
    "print(f\"Train ROC-AUC: {calculate_roc_auc(pipe, X_train, y_train):.4f}\")\n",
    "print(f\"Test ROC-AUC: {calculate_roc_auc(pipe, X_test, y_test):.4f}\")"
   ]
  },
  {
   "cell_type": "markdown",
   "id": "6284d64e",
   "metadata": {},
   "source": [
    "Great to see that it matches the performance of previous approach since the transformation was exactly the same but just written in a more elegant way. For our small example, this is the best approach among the four approaches shown in this post.\n",
    "\n",
    "Scikit-learn’s out-of-the-box transformers such as OneHotEncoder and SimpleImputer are fast and efficient. However, these prebuilt transformers may not always fulfill our unique preprocessing needs. In those cases, being familiar with the next approach gives us more control over bespoke ways of preprocessing."
   ]
  },
  {
   "cell_type": "markdown",
   "id": "b9eb60c6",
   "metadata": {},
   "source": [
    "### Elegant approach #2\n",
    "In this approach, we will create custom transformers with Scikit-learn. Seeing how the same preprocessing steps we have familiarised translated into custom transformers hopefully will help you grasp the main idea of constructing them. "
   ]
  },
  {
   "cell_type": "code",
   "execution_count": 11,
   "id": "b4654c79",
   "metadata": {},
   "outputs": [
    {
     "data": {
      "text/html": [
       "<style>#sk-d5f6f1a3-d89b-409d-817b-22a0bcde0955 {color: black;background-color: white;}#sk-d5f6f1a3-d89b-409d-817b-22a0bcde0955 pre{padding: 0;}#sk-d5f6f1a3-d89b-409d-817b-22a0bcde0955 div.sk-toggleable {background-color: white;}#sk-d5f6f1a3-d89b-409d-817b-22a0bcde0955 label.sk-toggleable__label {cursor: pointer;display: block;width: 100%;margin-bottom: 0;padding: 0.3em;box-sizing: border-box;text-align: center;}#sk-d5f6f1a3-d89b-409d-817b-22a0bcde0955 label.sk-toggleable__label-arrow:before {content: \"▸\";float: left;margin-right: 0.25em;color: #696969;}#sk-d5f6f1a3-d89b-409d-817b-22a0bcde0955 label.sk-toggleable__label-arrow:hover:before {color: black;}#sk-d5f6f1a3-d89b-409d-817b-22a0bcde0955 div.sk-estimator:hover label.sk-toggleable__label-arrow:before {color: black;}#sk-d5f6f1a3-d89b-409d-817b-22a0bcde0955 div.sk-toggleable__content {max-height: 0;max-width: 0;overflow: hidden;text-align: left;background-color: #f0f8ff;}#sk-d5f6f1a3-d89b-409d-817b-22a0bcde0955 div.sk-toggleable__content pre {margin: 0.2em;color: black;border-radius: 0.25em;background-color: #f0f8ff;}#sk-d5f6f1a3-d89b-409d-817b-22a0bcde0955 input.sk-toggleable__control:checked~div.sk-toggleable__content {max-height: 200px;max-width: 100%;overflow: auto;}#sk-d5f6f1a3-d89b-409d-817b-22a0bcde0955 input.sk-toggleable__control:checked~label.sk-toggleable__label-arrow:before {content: \"▾\";}#sk-d5f6f1a3-d89b-409d-817b-22a0bcde0955 div.sk-estimator input.sk-toggleable__control:checked~label.sk-toggleable__label {background-color: #d4ebff;}#sk-d5f6f1a3-d89b-409d-817b-22a0bcde0955 div.sk-label input.sk-toggleable__control:checked~label.sk-toggleable__label {background-color: #d4ebff;}#sk-d5f6f1a3-d89b-409d-817b-22a0bcde0955 input.sk-hidden--visually {border: 0;clip: rect(1px 1px 1px 1px);clip: rect(1px, 1px, 1px, 1px);height: 1px;margin: -1px;overflow: hidden;padding: 0;position: absolute;width: 1px;}#sk-d5f6f1a3-d89b-409d-817b-22a0bcde0955 div.sk-estimator {font-family: monospace;background-color: #f0f8ff;border: 1px dotted black;border-radius: 0.25em;box-sizing: border-box;margin-bottom: 0.5em;}#sk-d5f6f1a3-d89b-409d-817b-22a0bcde0955 div.sk-estimator:hover {background-color: #d4ebff;}#sk-d5f6f1a3-d89b-409d-817b-22a0bcde0955 div.sk-parallel-item::after {content: \"\";width: 100%;border-bottom: 1px solid gray;flex-grow: 1;}#sk-d5f6f1a3-d89b-409d-817b-22a0bcde0955 div.sk-label:hover label.sk-toggleable__label {background-color: #d4ebff;}#sk-d5f6f1a3-d89b-409d-817b-22a0bcde0955 div.sk-serial::before {content: \"\";position: absolute;border-left: 1px solid gray;box-sizing: border-box;top: 2em;bottom: 0;left: 50%;}#sk-d5f6f1a3-d89b-409d-817b-22a0bcde0955 div.sk-serial {display: flex;flex-direction: column;align-items: center;background-color: white;padding-right: 0.2em;padding-left: 0.2em;}#sk-d5f6f1a3-d89b-409d-817b-22a0bcde0955 div.sk-item {z-index: 1;}#sk-d5f6f1a3-d89b-409d-817b-22a0bcde0955 div.sk-parallel {display: flex;align-items: stretch;justify-content: center;background-color: white;}#sk-d5f6f1a3-d89b-409d-817b-22a0bcde0955 div.sk-parallel::before {content: \"\";position: absolute;border-left: 1px solid gray;box-sizing: border-box;top: 2em;bottom: 0;left: 50%;}#sk-d5f6f1a3-d89b-409d-817b-22a0bcde0955 div.sk-parallel-item {display: flex;flex-direction: column;position: relative;background-color: white;}#sk-d5f6f1a3-d89b-409d-817b-22a0bcde0955 div.sk-parallel-item:first-child::after {align-self: flex-end;width: 50%;}#sk-d5f6f1a3-d89b-409d-817b-22a0bcde0955 div.sk-parallel-item:last-child::after {align-self: flex-start;width: 50%;}#sk-d5f6f1a3-d89b-409d-817b-22a0bcde0955 div.sk-parallel-item:only-child::after {width: 0;}#sk-d5f6f1a3-d89b-409d-817b-22a0bcde0955 div.sk-dashed-wrapped {border: 1px dashed gray;margin: 0 0.4em 0.5em 0.4em;box-sizing: border-box;padding-bottom: 0.4em;background-color: white;position: relative;}#sk-d5f6f1a3-d89b-409d-817b-22a0bcde0955 div.sk-label label {font-family: monospace;font-weight: bold;background-color: white;display: inline-block;line-height: 1.2em;}#sk-d5f6f1a3-d89b-409d-817b-22a0bcde0955 div.sk-label-container {position: relative;z-index: 2;text-align: center;}#sk-d5f6f1a3-d89b-409d-817b-22a0bcde0955 div.sk-container {/* jupyter's `normalize.less` sets `[hidden] { display: none; }` but bootstrap.min.css set `[hidden] { display: none !important; }` so we also need the `!important` here to be able to override the default hidden behavior on the sphinx rendered scikit-learn.org. See: https://github.com/scikit-learn/scikit-learn/issues/21755 */display: inline-block !important;position: relative;}#sk-d5f6f1a3-d89b-409d-817b-22a0bcde0955 div.sk-text-repr-fallback {display: none;}</style><div id=\"sk-d5f6f1a3-d89b-409d-817b-22a0bcde0955\" class=\"sk-top-container\"><div class=\"sk-text-repr-fallback\"><pre>Pipeline(steps=[(&#x27;num_imputer&#x27;,\n",
       "                 Imputer(features=Index([&#x27;pclass&#x27;, &#x27;age&#x27;, &#x27;sibsp&#x27;, &#x27;parch&#x27;, &#x27;fare&#x27;], dtype=&#x27;object&#x27;),\n",
       "                         method=&#x27;mean&#x27;,\n",
       "                         value=pclass     2.3090\n",
       "age       29.8077\n",
       "sibsp      0.4930\n",
       "parch      0.3904\n",
       "fare      31.8198\n",
       "dtype: float64)),\n",
       "                (&#x27;scaler&#x27;,\n",
       "                 Scaler(features=Index([&#x27;pclass&#x27;, &#x27;age&#x27;, &#x27;sibsp&#x27;, &#x27;parch&#x27;, &#x27;fare&#x27;], dtype=&#x27;object&#x27;))),\n",
       "                (&#x27;cat_imputer&#x27;,\n",
       "                 Imputer(features=Index([&#x27;deck&#x27;, &#x27;embark_town&#x27;, &#x27;sex&#x27;], dtype=&#x27;object&#x27;))),\n",
       "                (&#x27;encoder&#x27;,\n",
       "                 Encoder(features=Index([&#x27;deck&#x27;, &#x27;embark_town&#x27;, &#x27;sex&#x27;], dtype=&#x27;object&#x27;))),\n",
       "                (&#x27;model&#x27;, LogisticRegression())])</pre><b>Please rerun this cell to show the HTML repr or trust the notebook.</b></div><div class=\"sk-container\" hidden><div class=\"sk-item sk-dashed-wrapped\"><div class=\"sk-label-container\"><div class=\"sk-label sk-toggleable\"><input class=\"sk-toggleable__control sk-hidden--visually\" id=\"fa0e1806-862f-4267-807f-39b0831b483b\" type=\"checkbox\" ><label for=\"fa0e1806-862f-4267-807f-39b0831b483b\" class=\"sk-toggleable__label sk-toggleable__label-arrow\">Pipeline</label><div class=\"sk-toggleable__content\"><pre>Pipeline(steps=[(&#x27;num_imputer&#x27;,\n",
       "                 Imputer(features=Index([&#x27;pclass&#x27;, &#x27;age&#x27;, &#x27;sibsp&#x27;, &#x27;parch&#x27;, &#x27;fare&#x27;], dtype=&#x27;object&#x27;),\n",
       "                         method=&#x27;mean&#x27;,\n",
       "                         value=pclass     2.3090\n",
       "age       29.8077\n",
       "sibsp      0.4930\n",
       "parch      0.3904\n",
       "fare      31.8198\n",
       "dtype: float64)),\n",
       "                (&#x27;scaler&#x27;,\n",
       "                 Scaler(features=Index([&#x27;pclass&#x27;, &#x27;age&#x27;, &#x27;sibsp&#x27;, &#x27;parch&#x27;, &#x27;fare&#x27;], dtype=&#x27;object&#x27;))),\n",
       "                (&#x27;cat_imputer&#x27;,\n",
       "                 Imputer(features=Index([&#x27;deck&#x27;, &#x27;embark_town&#x27;, &#x27;sex&#x27;], dtype=&#x27;object&#x27;))),\n",
       "                (&#x27;encoder&#x27;,\n",
       "                 Encoder(features=Index([&#x27;deck&#x27;, &#x27;embark_town&#x27;, &#x27;sex&#x27;], dtype=&#x27;object&#x27;))),\n",
       "                (&#x27;model&#x27;, LogisticRegression())])</pre></div></div></div><div class=\"sk-serial\"><div class=\"sk-item\"><div class=\"sk-estimator sk-toggleable\"><input class=\"sk-toggleable__control sk-hidden--visually\" id=\"11740596-5111-44ee-a008-b6c263d0faab\" type=\"checkbox\" ><label for=\"11740596-5111-44ee-a008-b6c263d0faab\" class=\"sk-toggleable__label sk-toggleable__label-arrow\">Imputer</label><div class=\"sk-toggleable__content\"><pre>Imputer(features=Index([&#x27;pclass&#x27;, &#x27;age&#x27;, &#x27;sibsp&#x27;, &#x27;parch&#x27;, &#x27;fare&#x27;], dtype=&#x27;object&#x27;),\n",
       "        method=&#x27;mean&#x27;,\n",
       "        value=pclass     2.3090\n",
       "age       29.8077\n",
       "sibsp      0.4930\n",
       "parch      0.3904\n",
       "fare      31.8198\n",
       "dtype: float64)</pre></div></div></div><div class=\"sk-item\"><div class=\"sk-estimator sk-toggleable\"><input class=\"sk-toggleable__control sk-hidden--visually\" id=\"679a9ecd-4b1b-43e7-a3b0-02a0d84e49d7\" type=\"checkbox\" ><label for=\"679a9ecd-4b1b-43e7-a3b0-02a0d84e49d7\" class=\"sk-toggleable__label sk-toggleable__label-arrow\">Scaler</label><div class=\"sk-toggleable__content\"><pre>Scaler(features=Index([&#x27;pclass&#x27;, &#x27;age&#x27;, &#x27;sibsp&#x27;, &#x27;parch&#x27;, &#x27;fare&#x27;], dtype=&#x27;object&#x27;))</pre></div></div></div><div class=\"sk-item\"><div class=\"sk-estimator sk-toggleable\"><input class=\"sk-toggleable__control sk-hidden--visually\" id=\"51d214bb-bcf4-4101-a663-7b55ebd79b52\" type=\"checkbox\" ><label for=\"51d214bb-bcf4-4101-a663-7b55ebd79b52\" class=\"sk-toggleable__label sk-toggleable__label-arrow\">Imputer</label><div class=\"sk-toggleable__content\"><pre>Imputer(features=Index([&#x27;deck&#x27;, &#x27;embark_town&#x27;, &#x27;sex&#x27;], dtype=&#x27;object&#x27;))</pre></div></div></div><div class=\"sk-item\"><div class=\"sk-estimator sk-toggleable\"><input class=\"sk-toggleable__control sk-hidden--visually\" id=\"7f3aa513-7126-48cf-8a75-2605c90ad300\" type=\"checkbox\" ><label for=\"7f3aa513-7126-48cf-8a75-2605c90ad300\" class=\"sk-toggleable__label sk-toggleable__label-arrow\">Encoder</label><div class=\"sk-toggleable__content\"><pre>Encoder(features=Index([&#x27;deck&#x27;, &#x27;embark_town&#x27;, &#x27;sex&#x27;], dtype=&#x27;object&#x27;))</pre></div></div></div><div class=\"sk-item\"><div class=\"sk-estimator sk-toggleable\"><input class=\"sk-toggleable__control sk-hidden--visually\" id=\"065c9e4a-d8ad-4622-8017-d4e0f30f2d1d\" type=\"checkbox\" ><label for=\"065c9e4a-d8ad-4622-8017-d4e0f30f2d1d\" class=\"sk-toggleable__label sk-toggleable__label-arrow\">LogisticRegression</label><div class=\"sk-toggleable__content\"><pre>LogisticRegression()</pre></div></div></div></div></div></div></div>"
      ],
      "text/plain": [
       "Pipeline(steps=[('num_imputer',\n",
       "                 Imputer(features=Index(['pclass', 'age', 'sibsp', 'parch', 'fare'], dtype='object'),\n",
       "                         method='mean',\n",
       "                         value=pclass     2.3090\n",
       "age       29.8077\n",
       "sibsp      0.4930\n",
       "parch      0.3904\n",
       "fare      31.8198\n",
       "dtype: float64)),\n",
       "                ('scaler',\n",
       "                 Scaler(features=Index(['pclass', 'age', 'sibsp', 'parch', 'fare'], dtype='object'))),\n",
       "                ('cat_imputer',\n",
       "                 Imputer(features=Index(['deck', 'embark_town', 'sex'], dtype='object'))),\n",
       "                ('encoder',\n",
       "                 Encoder(features=Index(['deck', 'embark_town', 'sex'], dtype='object'))),\n",
       "                ('model', LogisticRegression())])"
      ]
     },
     "execution_count": 11,
     "metadata": {},
     "output_type": "execute_result"
    }
   ],
   "source": [
    "class Imputer(BaseEstimator, TransformerMixin):\n",
    "    def __init__(self, features, method='constant', value='missing'):\n",
    "        self.features = features\n",
    "        self.method = method\n",
    "        self.value = value\n",
    "    \n",
    "    def fit(self, X, y=None):\n",
    "        if self.method=='mean':\n",
    "            self.value = X[self.features].mean()\n",
    "        return self\n",
    "    \n",
    "    def transform(self, X):\n",
    "        X_transformed = X.copy()\n",
    "        X_transformed[self.features] = X[self.features].fillna(self.value)\n",
    "        return X_transformed\n",
    "    \n",
    "class Scaler(BaseEstimator, TransformerMixin):\n",
    "    def __init__(self, features):\n",
    "        self.features = features\n",
    "    \n",
    "    def fit(self, X, y=None):\n",
    "        self.min = X[self.features].min()\n",
    "        self.range = X[self.features].max()-self.min\n",
    "        return self\n",
    "    \n",
    "    def transform(self, X):\n",
    "        X_transformed = X.copy()\n",
    "        X_transformed[self.features] = (X[self.features]-self.min)/self.range\n",
    "        return X_transformed\n",
    "  \n",
    "class Encoder(BaseEstimator, TransformerMixin):\n",
    "    def __init__(self, features, drop='first'):\n",
    "        self.features = features\n",
    "        self.drop = drop\n",
    "    \n",
    "    def fit(self, X, y=None):\n",
    "        self.encoder = OneHotEncoder(sparse=False, drop=self.drop)\n",
    "        self.encoder.fit(X[self.features])\n",
    "        return self\n",
    "    \n",
    "    def transform(self, X):\n",
    "        X_transformed = pd.concat([X.drop(columns=self.features).reset_index(drop=True), \n",
    "                                   pd.DataFrame(self.encoder.transform(X[self.features]), \n",
    "                                                columns=self.encoder.get_feature_names_out(self.features))],\n",
    "                                  axis=1)\n",
    "        return X_transformed\n",
    "        \n",
    "pipe = Pipeline([\n",
    "    ('num_imputer', Imputer(NUMERICAL, method='mean')),\n",
    "    ('scaler', Scaler(NUMERICAL)),\n",
    "    ('cat_imputer', Imputer(CATEGORICAL)),\n",
    "    ('encoder', Encoder(CATEGORICAL)),\n",
    "    ('model', LogisticRegression())\n",
    "])\n",
    "\n",
    "pipe.fit(X_train, y_train)"
   ]
  },
  {
   "cell_type": "markdown",
   "id": "0edf3dce",
   "metadata": {},
   "source": [
    "Unlike before, the steps are done sequentially one after another each step passing its output to the next step as an input. It’s time to evaluate the model:"
   ]
  },
  {
   "cell_type": "code",
   "execution_count": 12,
   "id": "8f9ad1cd",
   "metadata": {},
   "outputs": [
    {
     "name": "stdout",
     "output_type": "stream",
     "text": [
      "Train ROC-AUC: 0.8670\n",
      "Test ROC-AUC: 0.8332\n"
     ]
    }
   ],
   "source": [
    "print(f\"Train ROC-AUC: {calculate_roc_auc(pipe, X_train, y_train):.4f}\")\n",
    "print(f\"Test ROC-AUC: {calculate_roc_auc(pipe, X_test, y_test):.4f}\")"
   ]
  },
  {
   "cell_type": "markdown",
   "id": "d0c8d92a",
   "metadata": {},
   "source": [
    "Yay, we just learned another elegant way to achieve same result as before. While we only exclusively used prebuilt transformers in third approach and exclusively used custom transformers in the fourth approach, they can be used together provided that the custom transformers are defined to work coherently with the out-of-the-box transformers.\n",
    "\n",
    "That was it for this post! When using the latter 2 approaches, one benefit is that hyperparameter tuning can be done on the entire pipeline rather than only on the model. I hope you have learned practical ways to start using ML pipeline. ✨"
   ]
  },
  {
   "cell_type": "code",
   "execution_count": null,
   "id": "401c295d",
   "metadata": {},
   "outputs": [],
   "source": []
  }
 ],
 "metadata": {
  "kernelspec": {
   "display_name": "Python 3 (ipykernel)",
   "language": "python",
   "name": "python3"
  },
  "language_info": {
   "codemirror_mode": {
    "name": "ipython",
    "version": 3
   },
   "file_extension": ".py",
   "mimetype": "text/x-python",
   "name": "python",
   "nbconvert_exporter": "python",
   "pygments_lexer": "ipython3",
   "version": "3.9.13"
  }
 },
 "nbformat": 4,
 "nbformat_minor": 5
}
